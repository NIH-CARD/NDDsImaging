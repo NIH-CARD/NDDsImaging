{
 "cells": [
  {
   "cell_type": "markdown",
   "id": "0c5f4bf4-c838-4f6b-a2b1-a44f78b33564",
   "metadata": {},
   "source": [
    "# Feature Extraction"
   ]
  },
  {
   "cell_type": "code",
   "execution_count": 13,
   "id": "b69f97f0-7da0-4b29-8f47-fa7dbba1d3c9",
   "metadata": {},
   "outputs": [],
   "source": [
    "from pathlib import Path\n",
    "import pandas as pd\n",
    "import anndata as ad\n",
    "organized_data_dir = Path(\"/Users/projects_data/project_MLPhenotypesMRIGWAS/organized_data/23_03_30\")\n",
    "ml_generated_dir = Path(\"/Users/projects_data/project_MLPhenotypesMRIGWAS/ml_generated_data/23_03_30/preprocessed_data/\")"
   ]
  },
  {
   "cell_type": "code",
   "execution_count": 14,
   "id": "090a9ee0-8000-4a84-b2c7-a94d8663c29b",
   "metadata": {},
   "outputs": [],
   "source": [
    "adata = ad.read(\"/Users/projects_data/project_MLPhenotypesMRIGWAS/ml_generated_data/23_03_30/preprocessed_data/minmax_adata.h5ad\")"
   ]
  },
  {
   "cell_type": "code",
   "execution_count": 15,
   "id": "813fc2bd-15ed-4abb-85da-22763f0605f6",
   "metadata": {},
   "outputs": [],
   "source": [
    "feature_missingness = pd.read_csv(ml_generated_dir / \"features_missingness.csv\")"
   ]
  },
  {
   "cell_type": "code",
   "execution_count": 16,
   "id": "8ed3b0cb-44f8-4688-8e5a-50e7246d2272",
   "metadata": {},
   "outputs": [],
   "source": [
    "with open(organized_data_dir / \"ADNI_PPMI_UKBB_t1imaging_invicro_features.txt\", 'r') as f:\n",
    "    flist = f.read().split('\\n')"
   ]
  },
  {
   "cell_type": "code",
   "execution_count": 17,
   "id": "ca2a0173-6192-4fcd-8827-8118803f7695",
   "metadata": {},
   "outputs": [],
   "source": [
    "feature_missingness['include_classification'] = feature_missingness['missing_fraction'].map(lambda x: 'N' if x > 1 else 'Y')\n",
    "feature_missingness.columns = ['Feature ID', 'Missing data (%)', 'Included in ML model (Y/N)']\n",
    "feature_missingness.sort_values(by='Missing data (%)', ascending=False).to_csv(\"Step1_preprocessing/feature_missingness_details.csv\", sep=',', index=False)"
   ]
  },
  {
   "cell_type": "markdown",
   "id": "459597f7-baa2-4b2a-b07e-4fa071b0c468",
   "metadata": {},
   "source": [
    "# Participants characteristics"
   ]
  },
  {
   "cell_type": "code",
   "execution_count": 18,
   "id": "c8092291-f887-4a21-9904-eb4153cc474c",
   "metadata": {},
   "outputs": [
    {
     "name": "stderr",
     "output_type": "stream",
     "text": [
      "/var/folders/y5/tr1yp82s2ns2_4g_6flxk45jrqb07t/T/ipykernel_72570/400617496.py:3: DtypeWarning: Columns (0,20,21,22,51,80,105,106,107,117,119,732,733,991) have mixed types. Specify dtype option on import or set low_memory=False.\n",
      "  for_ethnicity = pd.read_csv(\"/Users/dadua2/EssentialCodeBase/data/brain_imaging/raw_data/23_03_invicro/adni_t1w.csv\")\n"
     ]
    }
   ],
   "source": [
    "ad_adata = ad.read(\"/Users/projects_data/project_MLPhenotypesMRIGWAS/ml_generated_data/23_03_30/predictiveModel/ad_imaging.h5ad\")\n",
    "pd_adata = ad.read(\"/Users/projects_data/project_MLPhenotypesMRIGWAS/ml_generated_data/23_03_30/predictiveModel/pd_imaging.h5ad\")\n",
    "for_ethnicity = pd.read_csv(\"/Users/EssentialCodeBase/data/brain_imaging/raw_data/23_03_invicro/adni_t1w.csv\")"
   ]
  },
  {
   "cell_type": "code",
   "execution_count": 19,
   "id": "032140c9-e6e2-40b5-af35-e7b2fcd2e8c9",
   "metadata": {},
   "outputs": [
    {
     "name": "stderr",
     "output_type": "stream",
     "text": [
      "/var/folders/y5/tr1yp82s2ns2_4g_6flxk45jrqb07t/T/ipykernel_72570/1517997466.py:1: DtypeWarning: Columns (18) have mixed types. Specify dtype option on import or set low_memory=False.\n",
      "  for_ethnicity_ppmi = pd.read_csv(\"/Users/dadua2/EssentialCodeBase/data/clinical/raw_data/23_03_unknown/processed_uniq_visit_month_mean_U3.csv\")\n"
     ]
    }
   ],
   "source": [
    "for_ethnicity_ppmi = pd.read_csv(\"/Users/EssentialCodeBase/data/clinical/raw_data/23_03_unknown/processed_uniq_visit_month_mean_U3.csv\")"
   ]
  },
  {
   "cell_type": "code",
   "execution_count": 20,
   "id": "d86050b6-9dca-425c-afb4-50bfa00f24bb",
   "metadata": {},
   "outputs": [],
   "source": [
    "# \n",
    "ethnicity_dict = dict(zip(list(for_ethnicity['PTID'].map(lambda x: f'ADNI-{x}')), list(for_ethnicity['PTRACCAT']))) # PTRACCAT PTETHCAT\n",
    "ethnicity_dict_ppmi = dict(zip(list(for_ethnicity_ppmi['participant_id'].map(lambda x: f'PPMI-{x}')), list(for_ethnicity_ppmi['race']))) # PTRACCAT PTETHCAT"
   ]
  },
  {
   "cell_type": "code",
   "execution_count": 21,
   "id": "3c4ac14d-28d9-4b51-9d88-b319331c4efb",
   "metadata": {},
   "outputs": [],
   "source": [
    "import numpy as np\n",
    "import scipy.stats as st\n",
    "def get_metrics(z):\n",
    "    z = z.dropna()\n",
    "    upper, lower = st.t.interval(alpha=0.95, df=len(z)-1, loc=np.mean(z), scale=st.sem(z)) \n",
    "    return np.mean(z), upper, lower, st.iqr(z), np.std(z), len(z)"
   ]
  },
  {
   "cell_type": "code",
   "execution_count": 22,
   "id": "a32e4a93-d9c7-4636-a8f8-c591f7b625e6",
   "metadata": {},
   "outputs": [
    {
     "name": "stdout",
     "output_type": "stream",
     "text": [
      "\n",
      "******************** Control\n",
      "\n",
      "Number of subject (3161,)\n",
      "Number of unique subject (925,)\n",
      "all mean= 75 std= 7 iqr= 9 cnt= 3161\n",
      "all mean= 75.44 std= 6.67 iqr= 8.82 cnt= 3161\n",
      "age ========================================\n",
      "mean= 73 std= 7 iqr= 9 cnt= 925\n",
      "mean= 72.51 std= 6.64 iqr= 9.18 cnt= 925\n",
      "mmse ========================================\n",
      "mean= 29 std= 1 iqr= 1 cnt= 925\n",
      "mean= 29.09 std= 1.13 iqr= 1.0 cnt= 925\n",
      "moca ========================================\n",
      "mean= 26 std= 3 iqr= 4 cnt= 823\n",
      "mean= 25.75 std= 2.64 iqr= 4.0 cnt= 823\n",
      "id_invicrot1_adas13 ========================================\n",
      "mean= 9 std= 4 iqr= 6 cnt= 921\n",
      "mean= 8.8 std= 4.27 iqr= 5.66 cnt= 921\n",
      "       subject_id\n",
      "gender           \n",
      "F        457 (49)\n",
      "M        358 (39)\n",
      "                  subject_id\n",
      "ethnicity                   \n",
      "Am Indian/Alaskan      2 (0)\n",
      "Asian                 26 (3)\n",
      "Black                 75 (8)\n",
      "More than one         16 (2)\n",
      "Unknown                3 (0)\n",
      "White               803 (87)\n",
      "\n",
      "******************** Dementia\n",
      "\n",
      "Number of subject (1826,)\n",
      "Number of unique subject (731,)\n",
      "all mean= 76 std= 8 iqr= 10 cnt= 1826\n",
      "all mean= 76.08 std= 7.59 iqr= 10.04 cnt= 1826\n",
      "age ========================================\n",
      "mean= 76 std= 8 iqr= 10 cnt= 731\n",
      "mean= 75.69 std= 7.67 iqr= 9.96 cnt= 731\n",
      "mmse ========================================\n",
      "mean= 23 std= 3 iqr= 4 cnt= 731\n",
      "mean= 23.37 std= 2.83 iqr= 4.0 cnt= 731\n",
      "moca ========================================\n",
      "mean= 17 std= 5 iqr= 6 cnt= 445\n",
      "mean= 17.48 std= 4.83 iqr= 6.0 cnt= 445\n",
      "id_invicrot1_adas13 ========================================\n",
      "mean= 29 std= 8 iqr= 11 cnt= 715\n",
      "mean= 28.74 std= 8.4 iqr= 11.0 cnt= 715\n",
      "       subject_id\n",
      "gender           \n",
      "F        237 (32)\n",
      "M        334 (46)\n",
      "              subject_id\n",
      "ethnicity               \n",
      "Asian             16 (2)\n",
      "Black             26 (4)\n",
      "More than one      6 (1)\n",
      "White           683 (93)\n"
     ]
    }
   ],
   "source": [
    "for diag in [\"Control\", 'Dementia']:\n",
    "    print ()\n",
    "    print ('*'*20, diag)\n",
    "    print ()\n",
    "    new_ad_adata = adata[ad_adata.obs.index].copy()\n",
    "    obs = new_ad_adata.obs[new_ad_adata.obs['diagnosis']==diag]\n",
    "    print (\"Number of subject\", obs.index.map(lambda x: '-'.join(x.split('-')[:2])).shape)\n",
    "    print (\"Number of unique subject\", obs.index.map(lambda x: '-'.join(x.split('-')[:2])).unique().shape)\n",
    "    \n",
    "    m, u_ci, l_ci, iqr, std, cnt = get_metrics(obs['age'])\n",
    "    print (\"all mean=\", round(m), \"std=\", round(std), \"iqr=\", round(iqr), \"cnt=\", cnt)\n",
    "    print (\"all mean=\", round(m, 2), \"std=\", round(std, 2), \"iqr=\", round(iqr, 2), \"cnt=\", cnt)\n",
    "\n",
    "        \n",
    "    baseline_data = obs.sort_values(by='age').drop_duplicates(subset=['subject_id'])\n",
    "    baseline_data['ethnicity'] = baseline_data['subject_id'].map(ethnicity_dict)\n",
    "\n",
    "    for col in ['age', 'mmse', 'moca', 'id_invicrot1_adas13']:\n",
    "        print (col, '='*40)\n",
    "        m, u_ci, l_ci, iqr, std, cnt = get_metrics(baseline_data[col])\n",
    "        print (\"mean=\", round(m), \"std=\", round(std), \"iqr=\", round(iqr), \"cnt=\", cnt)\n",
    "        print (\"mean=\", round(m, 2), \"std=\", round(std, 2), \"iqr=\", round(iqr, 2), \"cnt=\", cnt)\n",
    "\n",
    "    g = baseline_data.groupby('gender').agg({'subject_id': 'count'})\n",
    "    g['subject_id'] = g['subject_id'].map(lambda x: f\"{x} ({round((100 * x)/len(baseline_data))})\")\n",
    "    print (g)\n",
    "    \n",
    "    g = baseline_data.groupby('ethnicity').agg({'subject_id': 'count'})\n",
    "    g['subject_id'] = g['subject_id'].map(lambda x: f\"{x} ({round((100 * x)/len(baseline_data))})\")\n",
    "    print (g)"
   ]
  },
  {
   "cell_type": "code",
   "execution_count": 23,
   "id": "706e8ef5-14e6-4671-9a48-16ddff709bb9",
   "metadata": {},
   "outputs": [
    {
     "name": "stdout",
     "output_type": "stream",
     "text": [
      "\n",
      "******************** Control\n",
      "\n",
      "Number of subject (232,)\n",
      "Number of unique subject (145,)\n",
      "all mean= 62 std= 10 iqr= 14 cnt= 232\n",
      "all mean= 61.69 std= 10.07 iqr= 13.76 cnt= 232\n",
      "age ========================================\n",
      "mean= 62 std= 10 iqr= 13 cnt= 145\n",
      "mean= 61.7 std= 9.82 iqr= 13.08 cnt= 145\n",
      "moca ========================================\n",
      "mean= 28 std= 1 iqr= 2 cnt= 145\n",
      "mean= 28.24 std= 1.12 iqr= 2.0 cnt= 145\n",
      "mds_updrspartiii ========================================\n",
      "mean= 1 std= 2 iqr= 1 cnt= 145\n",
      "mean= 0.87 std= 1.73 iqr= 1.0 cnt= 145\n",
      "       subject_id\n",
      "gender           \n",
      "Female    47 (32)\n",
      "Male      98 (68)\n",
      "                          subject_id\n",
      "ethnicity                           \n",
      "Asian                          1 (1)\n",
      "Black or African American      7 (5)\n",
      "Multi-racial                   1 (1)\n",
      "White                       136 (94)\n",
      "\n",
      "******************** PD\n",
      "\n",
      "Number of subject (684,)\n",
      "Number of unique subject (319,)\n",
      "all mean= 63 std= 9 iqr= 14 cnt= 684\n",
      "all mean= 62.84 std= 9.05 iqr= 14.47 cnt= 684\n",
      "age ========================================\n",
      "mean= 62 std= 9 iqr= 14 cnt= 319\n",
      "mean= 62.19 std= 9.07 iqr= 14.03 cnt= 319\n",
      "moca ========================================\n",
      "mean= 27 std= 2 iqr= 3 cnt= 319\n",
      "mean= 27.22 std= 2.32 iqr= 3.0 cnt= 319\n",
      "mds_updrspartiii ========================================\n",
      "mean= 22 std= 9 iqr= 12 cnt= 319\n",
      "mean= 22.45 std= 9.09 iqr= 12.0 cnt= 319\n",
      "       subject_id\n",
      "gender           \n",
      "Female   111 (35)\n",
      "Male     208 (65)\n",
      "                          subject_id\n",
      "ethnicity                           \n",
      "Asian                          6 (2)\n",
      "Black or African American      5 (2)\n",
      "Multi-racial                   7 (2)\n",
      "Other                          5 (2)\n",
      "White                       296 (93)\n"
     ]
    }
   ],
   "source": [
    "for diag in [\"Control\", 'PD']:\n",
    "    print ()\n",
    "    print ('*'*20, diag)\n",
    "    print ()\n",
    "    new_pd_adata = adata[pd_adata.obs.index].copy()\n",
    "    obs = new_pd_adata.obs[new_pd_adata.obs['diagnosis']==diag]\n",
    "    print (\"Number of subject\", obs.index.map(lambda x: '-'.join(x.split('-')[:2])).shape)\n",
    "    print (\"Number of unique subject\", obs.index.map(lambda x: '-'.join(x.split('-')[:2])).unique().shape)\n",
    "    \n",
    "    m, u_ci, l_ci, iqr, std, cnt = get_metrics(obs['age'])\n",
    "    print (\"all mean=\", round(m), \"std=\", round(std), \"iqr=\", round(iqr), \"cnt=\", cnt)\n",
    "    print (\"all mean=\", round(m, 2), \"std=\", round(std, 2), \"iqr=\", round(iqr, 2), \"cnt=\", cnt)\n",
    "\n",
    "    baseline_data = obs.sort_values(by='age').drop_duplicates(subset=['subject_id'])\n",
    "    baseline_data['ethnicity'] = baseline_data['subject_id'].map(ethnicity_dict_ppmi)\n",
    "\n",
    "    for col in ['age', 'moca', 'mds_updrspartiii']:\n",
    "        print (col, '='*40)\n",
    "        m, u_ci, l_ci, iqr, std, cnt = get_metrics(baseline_data[col])\n",
    "        print (\"mean=\", round(m), \"std=\", round(std), \"iqr=\", round(iqr), \"cnt=\", cnt)\n",
    "        print (\"mean=\", round(m, 2), \"std=\", round(std, 2), \"iqr=\", round(iqr, 2), \"cnt=\", cnt)\n",
    "\n",
    "    g = baseline_data.groupby('gender').agg({'subject_id': 'count'})\n",
    "    g['subject_id'] = g['subject_id'].map(lambda x: f\"{x} ({round((100 * x)/len(baseline_data))})\")\n",
    "    print (g)\n",
    "    \n",
    "    g = baseline_data.groupby('ethnicity').agg({'subject_id': 'count'})\n",
    "    g['subject_id'] = g['subject_id'].map(lambda x: f\"{x} ({round((100 * x)/len(baseline_data))})\")\n",
    "    print (g)"
   ]
  },
  {
   "cell_type": "markdown",
   "id": "9154da8a-36f1-4b1f-a7b4-a32f2a097a4d",
   "metadata": {},
   "source": [
    "# Some age distribution plots"
   ]
  },
  {
   "cell_type": "code",
   "execution_count": 101,
   "id": "6e1a0ec2-aeb0-473c-9ac7-cb5486340a96",
   "metadata": {},
   "outputs": [],
   "source": [
    "import seaborn as sns\n",
    "import matplotlib as mpl\n",
    "from matplotlib.ticker import FuncFormatter\n",
    "import matplotlib.pyplot as plt\n",
    "sns.reset_defaults()\n",
    "import matplotlib.patches as  mpatches\n",
    "mpl.rcParams.update(mpl.rcParamsDefault)\n",
    "sns.set_theme(\"notebook\", rc={\"lines.linewidth\": 1.5}) # font_scale=1, \n",
    "sns.set_style(\"white\", )\n",
    "sns.set_style(\"ticks\", {\"xtick.major.size\": 8, \"ytick.major.size\": 8})\n",
    "sns.set(context='notebook', style='ticks', font_scale=1, font='sans-serif', rc={\"lines.linewidth\": 1.2})\n",
    "sns.set_style(\"white\")\n",
    "sns.set_style(\"ticks\", {\"xtick.major.size\": 8, \"ytick.major.size\": 8})"
   ]
  },
  {
   "cell_type": "code",
   "execution_count": 124,
   "id": "8ca60589-aa5c-486e-bb0e-e737eaa92c22",
   "metadata": {},
   "outputs": [],
   "source": [
    "baseline_data = adata.obs.copy().sort_values(by='age').drop_duplicates(subset=['patid'])"
   ]
  },
  {
   "cell_type": "code",
   "execution_count": 125,
   "id": "6a10fa48-e7bc-456e-a36a-e980d2823f7c",
   "metadata": {},
   "outputs": [],
   "source": [
    "baseline_data = baseline_data[baseline_data['study_diagnosis'].isin(['ADNI_Control', 'ADNI_Dementia', 'PPMI_PD', 'PPMI_Control', 'UKBB_None'])]"
   ]
  },
  {
   "cell_type": "code",
   "execution_count": 126,
   "id": "c5039a11-6a50-4926-9af7-1a145c01cdc1",
   "metadata": {},
   "outputs": [],
   "source": [
    "baseline_data['study_diagnosis'] = baseline_data['study_diagnosis'].astype(str)# .value_counts()"
   ]
  },
  {
   "cell_type": "code",
   "execution_count": 127,
   "id": "f41711e5-b268-49e7-a748-89875c242461",
   "metadata": {},
   "outputs": [
    {
     "data": {
      "text/plain": [
       "UKBB_None        42835\n",
       "ADNI_Control       846\n",
       "ADNI_Dementia      394\n",
       "PPMI_PD            319\n",
       "PPMI_Control       145\n",
       "Name: study_diagnosis, dtype: int64"
      ]
     },
     "execution_count": 127,
     "metadata": {},
     "output_type": "execute_result"
    }
   ],
   "source": [
    "baseline_data['study_diagnosis'].value_counts()"
   ]
  },
  {
   "cell_type": "code",
   "execution_count": 129,
   "id": "9a4dd15a-5fae-40b7-9a03-5a78f80f37cc",
   "metadata": {},
   "outputs": [
    {
     "data": {
      "image/png": "[encoded data removed]",
      "text/plain": [
       "<Figure size 800x600 with 1 Axes>"
      ]
     },
     "metadata": {},
     "output_type": "display_data"
    }
   ],
   "source": [
    "fig, ax = plt.subplots(figsize=(8,6))\n",
    "sns.despine(top=True, right=True, left=False, bottom=False, offset=None, trim=False)\n",
    "colorlist = ['red', 'green', 'blue', 'orange', 'black']\n",
    "labels = []\n",
    "for e, sd in enumerate(baseline_data['study_diagnosis'].unique()):\n",
    "    sns.kdeplot(data=baseline_data[baseline_data['study_diagnosis']==sd], x='age',color=colorlist[e], fill=colorlist[e], ax=ax, label=sd, alpha=0.1, linewidth=1,)\n",
    "    labels.append(sd)\n",
    "\n",
    "handles = [mpatches.Patch(facecolor=colorlist[e], label=i.replace('UKBB_None', 'UKB')) for e, i in enumerate(labels)]\n",
    "plt.legend(handles=handles, loc=0)\n",
    "plt.tight_layout()\n",
    "plt.savefig(\"Step1_preprocessing/age_distribution_all_cohorts.png\", dpi=200)\n",
    "plt.savefig(\"Step1_preprocessing/age_distribution_all_cohorts.svg\")\n",
    "plt.show()"
   ]
  },
  {
   "cell_type": "markdown",
   "id": "f2d79437-5f8d-4124-a625-ab15443ef806",
   "metadata": {},
   "source": [
    "# Gender distribution"
   ]
  },
  {
   "cell_type": "code",
   "execution_count": 132,
   "id": "96c31ed3-9598-4049-81d3-99b9397cf535",
   "metadata": {},
   "outputs": [
    {
     "data": {
      "text/html": [
       "<div>\n",
       "<style scoped>\n",
       "    .dataframe tbody tr th:only-of-type {\n",
       "        vertical-align: middle;\n",
       "    }\n",
       "\n",
       "    .dataframe tbody tr th {\n",
       "        vertical-align: top;\n",
       "    }\n",
       "\n",
       "    .dataframe thead th {\n",
       "        text-align: right;\n",
       "    }\n",
       "</style>\n",
       "<table border=\"1\" class=\"dataframe\">\n",
       "  <thead>\n",
       "    <tr style=\"text-align: right;\">\n",
       "      <th></th>\n",
       "      <th></th>\n",
       "      <th>gender</th>\n",
       "    </tr>\n",
       "    <tr>\n",
       "      <th>study_diagnosis</th>\n",
       "      <th>gender</th>\n",
       "      <th></th>\n",
       "    </tr>\n",
       "  </thead>\n",
       "  <tbody>\n",
       "    <tr>\n",
       "      <th rowspan=\"5\" valign=\"top\">ADNI_Control</th>\n",
       "      <th>F</th>\n",
       "      <td>422</td>\n",
       "    </tr>\n",
       "    <tr>\n",
       "      <th>Female</th>\n",
       "      <td>0</td>\n",
       "    </tr>\n",
       "    <tr>\n",
       "      <th>M</th>\n",
       "      <td>319</td>\n",
       "    </tr>\n",
       "    <tr>\n",
       "      <th>Male</th>\n",
       "      <td>0</td>\n",
       "    </tr>\n",
       "    <tr>\n",
       "      <th>Unk</th>\n",
       "      <td>0</td>\n",
       "    </tr>\n",
       "    <tr>\n",
       "      <th rowspan=\"5\" valign=\"top\">ADNI_Dementia</th>\n",
       "      <th>F</th>\n",
       "      <td>121</td>\n",
       "    </tr>\n",
       "    <tr>\n",
       "      <th>Female</th>\n",
       "      <td>0</td>\n",
       "    </tr>\n",
       "    <tr>\n",
       "      <th>M</th>\n",
       "      <td>168</td>\n",
       "    </tr>\n",
       "    <tr>\n",
       "      <th>Male</th>\n",
       "      <td>0</td>\n",
       "    </tr>\n",
       "    <tr>\n",
       "      <th>Unk</th>\n",
       "      <td>0</td>\n",
       "    </tr>\n",
       "    <tr>\n",
       "      <th rowspan=\"5\" valign=\"top\">PPMI_Control</th>\n",
       "      <th>F</th>\n",
       "      <td>0</td>\n",
       "    </tr>\n",
       "    <tr>\n",
       "      <th>Female</th>\n",
       "      <td>47</td>\n",
       "    </tr>\n",
       "    <tr>\n",
       "      <th>M</th>\n",
       "      <td>0</td>\n",
       "    </tr>\n",
       "    <tr>\n",
       "      <th>Male</th>\n",
       "      <td>98</td>\n",
       "    </tr>\n",
       "    <tr>\n",
       "      <th>Unk</th>\n",
       "      <td>0</td>\n",
       "    </tr>\n",
       "    <tr>\n",
       "      <th rowspan=\"5\" valign=\"top\">PPMI_PD</th>\n",
       "      <th>F</th>\n",
       "      <td>0</td>\n",
       "    </tr>\n",
       "    <tr>\n",
       "      <th>Female</th>\n",
       "      <td>111</td>\n",
       "    </tr>\n",
       "    <tr>\n",
       "      <th>M</th>\n",
       "      <td>0</td>\n",
       "    </tr>\n",
       "    <tr>\n",
       "      <th>Male</th>\n",
       "      <td>208</td>\n",
       "    </tr>\n",
       "    <tr>\n",
       "      <th>Unk</th>\n",
       "      <td>0</td>\n",
       "    </tr>\n",
       "    <tr>\n",
       "      <th rowspan=\"5\" valign=\"top\">UKBB_None</th>\n",
       "      <th>F</th>\n",
       "      <td>22588</td>\n",
       "    </tr>\n",
       "    <tr>\n",
       "      <th>Female</th>\n",
       "      <td>0</td>\n",
       "    </tr>\n",
       "    <tr>\n",
       "      <th>M</th>\n",
       "      <td>20247</td>\n",
       "    </tr>\n",
       "    <tr>\n",
       "      <th>Male</th>\n",
       "      <td>0</td>\n",
       "    </tr>\n",
       "    <tr>\n",
       "      <th>Unk</th>\n",
       "      <td>0</td>\n",
       "    </tr>\n",
       "  </tbody>\n",
       "</table>\n",
       "</div>"
      ],
      "text/plain": [
       "                        gender\n",
       "study_diagnosis gender        \n",
       "ADNI_Control    F          422\n",
       "                Female       0\n",
       "                M          319\n",
       "                Male         0\n",
       "                Unk          0\n",
       "ADNI_Dementia   F          121\n",
       "                Female       0\n",
       "                M          168\n",
       "                Male         0\n",
       "                Unk          0\n",
       "PPMI_Control    F            0\n",
       "                Female      47\n",
       "                M            0\n",
       "                Male        98\n",
       "                Unk          0\n",
       "PPMI_PD         F            0\n",
       "                Female     111\n",
       "                M            0\n",
       "                Male       208\n",
       "                Unk          0\n",
       "UKBB_None       F        22588\n",
       "                Female       0\n",
       "                M        20247\n",
       "                Male         0\n",
       "                Unk          0"
      ]
     },
     "execution_count": 132,
     "metadata": {},
     "output_type": "execute_result"
    }
   ],
   "source": [
    "baseline_data.groupby(['study_diagnosis', 'gender']).agg({'gender': 'count'})"
   ]
  },
  {
   "cell_type": "markdown",
   "id": "86397136-0647-4378-8104-5a6a42c873d1",
   "metadata": {},
   "source": [
    "# Prepare files for streamlit tool"
   ]
  },
  {
   "cell_type": "code",
   "execution_count": 133,
   "id": "6e6bd887-0f39-4db7-aca9-14fec1f2d7f5",
   "metadata": {},
   "outputs": [],
   "source": [
    "import os\n",
    "from pathlib import Path\n",
    "import pandas as pd\n",
    "from lifelines import CoxPHFitter\n",
    "import numpy as np\n",
    "import matplotlib.pyplot as plt\n",
    "from omegaconf import OmegaConf\n",
    "# import forestplot as fp\n",
    "from tabulate import tabulate\n",
    "from matplotlib.ticker import FormatStrFormatter\n",
    "\n",
    "from lifelines import KaplanMeierFitter\n",
    "from lifelines.plotting import add_at_risk_counts\n",
    "from lifelines.datasets import load_waltons\n",
    "from contextlib import redirect_stdout\n",
    "\n",
    "from collections import defaultdict\n",
    "\n",
    "evaluation_generated_dir = Path(\"/Users/dadua2/projects_data/project_MLPhenotypesMRIGWAS/evaluation_generated_data/23_03_30\") / \"survival_analysis_cluster\"\n",
    "organized_generated_dir = Path(\"/Users/dadua2/projects_data/project_MLPhenotypesMRIGWAS/organized_data/23_03_30\")\n",
    "os.makedirs(evaluation_generated_dir, exist_ok=True)\n",
    "\n",
    "data_all = pd.read_parquet(organized_generated_dir / 'combinedData.parquet.gzip')\n",
    "data_all['id_invicrot1_vol_temporal_rdktlobes'] = 1 - data_all['id_invicrot1_vol_temporal_rdktlobes']\n",
    "data_all['id_invicrot1_vol_gmtissues'] = 1 - data_all['id_invicrot1_vol_gmtissues']\n",
    "data_all['id_invicrot1_vol_left_entorhinaldktcortex'] = 1 - data_all['id_invicrot1_vol_left_entorhinaldktcortex']\n",
    "\n",
    "subject_max = data_all.set_index('eid')[['Age_i0', 'Age_i1', 'Age_i2', 'Age_i3']].agg(max, axis=1) # - data.set_index('eid')[['Age_i0', 'Age_i1', 'Age_i2', 'Age_i3']].agg(min, axis=1)\n",
    "subject_max = subject_max.reset_index().groupby('eid').agg('max')[0]\n",
    "study_time = dict(zip(list(subject_max.index), list(subject_max.values)))\n",
    "\n",
    "data = data_all.copy() # [data_all['ukbb_id_nih'].str.contains('20252_2_0')].copy().set_index('eid')"
   ]
  },
  {
   "cell_type": "code",
   "execution_count": 134,
   "id": "f194ba71-652f-4943-8278-e26c9dc91601",
   "metadata": {},
   "outputs": [],
   "source": [
    "organized_nih_path = Path(\"/Users/EssentialCodeBase/data/clinical/organized_data/23_03_ukbb/nih_dnanexus_230317\")\n",
    "ukbb_clinical_data = pd.read_parquet(organized_nih_path / \"participantCharacteristics.parquet.gzip\")\n"
   ]
  },
  {
   "cell_type": "code",
   "execution_count": 135,
   "id": "a4b848dc-1f85-41d5-8eb7-10aab38392d2",
   "metadata": {},
   "outputs": [
    {
     "name": "stderr",
     "output_type": "stream",
     "text": [
      "/var/folders/y5/tr1yp82s2ns2_4g_6flxk45jrqb07t/T/ipykernel_72570/3271304515.py:4: DtypeWarning: Columns (2,6,16,17,25,27,38,47,49,50,53,70,77,78,92,93) have mixed types. Specify dtype option on import or set low_memory=False.\n",
      "  data_list.append(pd.read_csv(raw_data_path / f\"imaging_biomarker_cognitive/imaging_biomarker_cognitive_{e}_project_fields_23_03.csv.gz\"))\n",
      "/var/folders/y5/tr1yp82s2ns2_4g_6flxk45jrqb07t/T/ipykernel_72570/3271304515.py:4: DtypeWarning: Columns (3,10,14,15,16,28,29,55,57,59,63,68,70,71,72,77,98) have mixed types. Specify dtype option on import or set low_memory=False.\n",
      "  data_list.append(pd.read_csv(raw_data_path / f\"imaging_biomarker_cognitive/imaging_biomarker_cognitive_{e}_project_fields_23_03.csv.gz\"))\n",
      "/var/folders/y5/tr1yp82s2ns2_4g_6flxk45jrqb07t/T/ipykernel_72570/3271304515.py:4: DtypeWarning: Columns (5,14,21,24,27,32,40,47,48,63,67,68,69,84,90) have mixed types. Specify dtype option on import or set low_memory=False.\n",
      "  data_list.append(pd.read_csv(raw_data_path / f\"imaging_biomarker_cognitive/imaging_biomarker_cognitive_{e}_project_fields_23_03.csv.gz\"))\n",
      "/var/folders/y5/tr1yp82s2ns2_4g_6flxk45jrqb07t/T/ipykernel_72570/3271304515.py:4: DtypeWarning: Columns (16,24,25,27,35,40,43,46,47,56,64,72,75,87,93,96) have mixed types. Specify dtype option on import or set low_memory=False.\n",
      "  data_list.append(pd.read_csv(raw_data_path / f\"imaging_biomarker_cognitive/imaging_biomarker_cognitive_{e}_project_fields_23_03.csv.gz\"))\n",
      "/var/folders/y5/tr1yp82s2ns2_4g_6flxk45jrqb07t/T/ipykernel_72570/3271304515.py:4: DtypeWarning: Columns (3,8,9,10,33,38,42,46,49,56,60,67,70,78,80,81) have mixed types. Specify dtype option on import or set low_memory=False.\n",
      "  data_list.append(pd.read_csv(raw_data_path / f\"imaging_biomarker_cognitive/imaging_biomarker_cognitive_{e}_project_fields_23_03.csv.gz\"))\n",
      "/var/folders/y5/tr1yp82s2ns2_4g_6flxk45jrqb07t/T/ipykernel_72570/3271304515.py:4: DtypeWarning: Columns (7,10,22,24,27,29,36,44,47,55,61,63,65,71,74,75,80,81,89,98,100) have mixed types. Specify dtype option on import or set low_memory=False.\n",
      "  data_list.append(pd.read_csv(raw_data_path / f\"imaging_biomarker_cognitive/imaging_biomarker_cognitive_{e}_project_fields_23_03.csv.gz\"))\n",
      "/var/folders/y5/tr1yp82s2ns2_4g_6flxk45jrqb07t/T/ipykernel_72570/3271304515.py:4: DtypeWarning: Columns (6,11,13,14,15,22,29,35,36,47,51,52,55,58,59,68,70,85,89,98,100) have mixed types. Specify dtype option on import or set low_memory=False.\n",
      "  data_list.append(pd.read_csv(raw_data_path / f\"imaging_biomarker_cognitive/imaging_biomarker_cognitive_{e}_project_fields_23_03.csv.gz\"))\n",
      "/var/folders/y5/tr1yp82s2ns2_4g_6flxk45jrqb07t/T/ipykernel_72570/3271304515.py:4: DtypeWarning: Columns (2,8,20,24,25,45,47,50,55,56,59,63,69,91,93,99) have mixed types. Specify dtype option on import or set low_memory=False.\n",
      "  data_list.append(pd.read_csv(raw_data_path / f\"imaging_biomarker_cognitive/imaging_biomarker_cognitive_{e}_project_fields_23_03.csv.gz\"))\n",
      "/var/folders/y5/tr1yp82s2ns2_4g_6flxk45jrqb07t/T/ipykernel_72570/3271304515.py:4: DtypeWarning: Columns (1,2,3,12,14,15,17,19,21,28,32,36,40,43,48,52,54,56,60,61,70,71,72,75,79,81,82,83,89,90,91,92,95,98) have mixed types. Specify dtype option on import or set low_memory=False.\n",
      "  data_list.append(pd.read_csv(raw_data_path / f\"imaging_biomarker_cognitive/imaging_biomarker_cognitive_{e}_project_fields_23_03.csv.gz\"))\n",
      "/var/folders/y5/tr1yp82s2ns2_4g_6flxk45jrqb07t/T/ipykernel_72570/3271304515.py:4: DtypeWarning: Columns (2,77) have mixed types. Specify dtype option on import or set low_memory=False.\n",
      "  data_list.append(pd.read_csv(raw_data_path / f\"imaging_biomarker_cognitive/imaging_biomarker_cognitive_{e}_project_fields_23_03.csv.gz\"))\n"
     ]
    },
    {
     "name": "stdout",
     "output_type": "stream",
     "text": [
      "Number of patients 502387\n",
      "Shape of concatenated data (502387, 1794)\n",
      "Drop duplicated columns (502387, 1710)\n"
     ]
    }
   ],
   "source": [
    "raw_data_path = Path(\"/Users/EssentialCodeBase/data/clinical/raw_data/23_03_ukbb/nih_dnanexus_230317\")\n",
    "data_list = []\n",
    "for e in range(len(os.listdir(raw_data_path / 'imaging_biomarker_cognitive'))):\n",
    "    data_list.append(pd.read_csv(raw_data_path / f\"imaging_biomarker_cognitive/imaging_biomarker_cognitive_{e}_project_fields_23_03.csv.gz\"))\n",
    "\n",
    "\n",
    "def get_common_indices(data_list):\n",
    "    # Combine data using pieces using patient index\n",
    "    selected_patient_index = list(set.intersection(*map(set, [data_list[i]['eid'].values for i in range(len(data_list))])))\n",
    "    print(\"Number of patients\", len(selected_patient_index))\n",
    "    data = pd.concat([data_list[e].set_index('eid').loc[selected_patient_index] for e in range(len(data_list))], axis=1)\n",
    "    print(\"Shape of concatenated data\", data.shape)\n",
    "    data = data.loc[:, ~data.columns.duplicated()].copy()\n",
    "    print(\"Drop duplicated columns\", data.shape)\n",
    "    return data\n",
    "\n",
    "\n",
    "nih_data = get_common_indices(data_list).reset_index()"
   ]
  },
  {
   "cell_type": "code",
   "execution_count": 136,
   "id": "5623c510-b494-4d7f-bf00-630902a37f59",
   "metadata": {},
   "outputs": [],
   "source": [
    "pc_data = nih_data[['eid']].copy().rename(columns={'eid': 'IID'})"
   ]
  },
  {
   "cell_type": "code",
   "execution_count": 137,
   "id": "f8dbfe68-a3b9-443e-b51e-c0566f71141a",
   "metadata": {},
   "outputs": [],
   "source": [
    "col_rn = {}\n",
    "for i in range(1, 11):\n",
    "    pc_data[f'pc{i}'] =  nih_data[f'p22009_a{i}'].values"
   ]
  },
  {
   "cell_type": "code",
   "execution_count": 138,
   "id": "feb359d8-58ad-43a8-a19a-be77a2149bfa",
   "metadata": {},
   "outputs": [
    {
     "data": {
      "text/html": [
       "<div>\n",
       "<style scoped>\n",
       "    .dataframe tbody tr th:only-of-type {\n",
       "        vertical-align: middle;\n",
       "    }\n",
       "\n",
       "    .dataframe tbody tr th {\n",
       "        vertical-align: top;\n",
       "    }\n",
       "\n",
       "    .dataframe thead th {\n",
       "        text-align: right;\n",
       "    }\n",
       "</style>\n",
       "<table border=\"1\" class=\"dataframe\">\n",
       "  <thead>\n",
       "    <tr style=\"text-align: right;\">\n",
       "      <th></th>\n",
       "      <th>IID</th>\n",
       "      <th>pc1</th>\n",
       "      <th>pc2</th>\n",
       "      <th>pc3</th>\n",
       "      <th>pc4</th>\n",
       "      <th>pc5</th>\n",
       "      <th>pc6</th>\n",
       "      <th>pc7</th>\n",
       "      <th>pc8</th>\n",
       "      <th>pc9</th>\n",
       "      <th>pc10</th>\n",
       "    </tr>\n",
       "  </thead>\n",
       "  <tbody>\n",
       "    <tr>\n",
       "      <th>0</th>\n",
       "      <td>2097153</td>\n",
       "      <td>-11.53190</td>\n",
       "      <td>4.02887</td>\n",
       "      <td>-2.786470</td>\n",
       "      <td>0.382339</td>\n",
       "      <td>-4.036950</td>\n",
       "      <td>1.751570</td>\n",
       "      <td>0.125581</td>\n",
       "      <td>-2.149600</td>\n",
       "      <td>-0.805255</td>\n",
       "      <td>1.539440</td>\n",
       "    </tr>\n",
       "    <tr>\n",
       "      <th>1</th>\n",
       "      <td>5242881</td>\n",
       "      <td>-11.82300</td>\n",
       "      <td>1.26643</td>\n",
       "      <td>-0.430540</td>\n",
       "      <td>-0.281423</td>\n",
       "      <td>-0.491189</td>\n",
       "      <td>1.726960</td>\n",
       "      <td>0.856721</td>\n",
       "      <td>1.567190</td>\n",
       "      <td>1.388630</td>\n",
       "      <td>-0.869868</td>\n",
       "    </tr>\n",
       "    <tr>\n",
       "      <th>2</th>\n",
       "      <td>3145731</td>\n",
       "      <td>-11.33960</td>\n",
       "      <td>1.62085</td>\n",
       "      <td>-1.287520</td>\n",
       "      <td>2.370630</td>\n",
       "      <td>-5.148740</td>\n",
       "      <td>1.627040</td>\n",
       "      <td>-0.196365</td>\n",
       "      <td>-2.231230</td>\n",
       "      <td>0.861577</td>\n",
       "      <td>0.787777</td>\n",
       "    </tr>\n",
       "    <tr>\n",
       "      <th>3</th>\n",
       "      <td>4194308</td>\n",
       "      <td>-12.42640</td>\n",
       "      <td>1.79265</td>\n",
       "      <td>-2.471930</td>\n",
       "      <td>-1.426550</td>\n",
       "      <td>-0.434498</td>\n",
       "      <td>-0.623471</td>\n",
       "      <td>3.484260</td>\n",
       "      <td>3.406740</td>\n",
       "      <td>-3.223780</td>\n",
       "      <td>-1.370190</td>\n",
       "    </tr>\n",
       "    <tr>\n",
       "      <th>4</th>\n",
       "      <td>3145729</td>\n",
       "      <td>78.28770</td>\n",
       "      <td>-117.28800</td>\n",
       "      <td>78.933500</td>\n",
       "      <td>24.817800</td>\n",
       "      <td>-3.975770</td>\n",
       "      <td>-3.802220</td>\n",
       "      <td>-2.841740</td>\n",
       "      <td>-4.055550</td>\n",
       "      <td>-2.052640</td>\n",
       "      <td>-6.534530</td>\n",
       "    </tr>\n",
       "    <tr>\n",
       "      <th>...</th>\n",
       "      <td>...</td>\n",
       "      <td>...</td>\n",
       "      <td>...</td>\n",
       "      <td>...</td>\n",
       "      <td>...</td>\n",
       "      <td>...</td>\n",
       "      <td>...</td>\n",
       "      <td>...</td>\n",
       "      <td>...</td>\n",
       "      <td>...</td>\n",
       "      <td>...</td>\n",
       "    </tr>\n",
       "    <tr>\n",
       "      <th>502382</th>\n",
       "      <td>5242869</td>\n",
       "      <td>-12.52150</td>\n",
       "      <td>1.01588</td>\n",
       "      <td>1.406200</td>\n",
       "      <td>2.026410</td>\n",
       "      <td>-2.451070</td>\n",
       "      <td>1.533970</td>\n",
       "      <td>3.352110</td>\n",
       "      <td>-0.343544</td>\n",
       "      <td>-2.416730</td>\n",
       "      <td>2.399090</td>\n",
       "    </tr>\n",
       "    <tr>\n",
       "      <th>502383</th>\n",
       "      <td>1048564</td>\n",
       "      <td>-9.88989</td>\n",
       "      <td>2.76671</td>\n",
       "      <td>-3.700570</td>\n",
       "      <td>-0.991052</td>\n",
       "      <td>-2.821400</td>\n",
       "      <td>-0.448518</td>\n",
       "      <td>0.155195</td>\n",
       "      <td>-1.216150</td>\n",
       "      <td>0.402192</td>\n",
       "      <td>-1.303620</td>\n",
       "    </tr>\n",
       "    <tr>\n",
       "      <th>502384</th>\n",
       "      <td>5242872</td>\n",
       "      <td>-10.04000</td>\n",
       "      <td>1.80412</td>\n",
       "      <td>3.235950</td>\n",
       "      <td>-9.554090</td>\n",
       "      <td>7.211580</td>\n",
       "      <td>-3.534950</td>\n",
       "      <td>-4.618610</td>\n",
       "      <td>-2.803120</td>\n",
       "      <td>1.796630</td>\n",
       "      <td>3.617760</td>\n",
       "    </tr>\n",
       "    <tr>\n",
       "      <th>502385</th>\n",
       "      <td>4194297</td>\n",
       "      <td>-11.74190</td>\n",
       "      <td>5.15146</td>\n",
       "      <td>-0.670776</td>\n",
       "      <td>-0.797595</td>\n",
       "      <td>-3.561300</td>\n",
       "      <td>-2.790080</td>\n",
       "      <td>1.146850</td>\n",
       "      <td>-1.234980</td>\n",
       "      <td>4.091260</td>\n",
       "      <td>0.388259</td>\n",
       "    </tr>\n",
       "    <tr>\n",
       "      <th>502386</th>\n",
       "      <td>1048570</td>\n",
       "      <td>-10.02110</td>\n",
       "      <td>5.70659</td>\n",
       "      <td>-1.225900</td>\n",
       "      <td>-0.982136</td>\n",
       "      <td>-7.360760</td>\n",
       "      <td>0.518280</td>\n",
       "      <td>1.891120</td>\n",
       "      <td>-1.856850</td>\n",
       "      <td>4.159320</td>\n",
       "      <td>-0.087844</td>\n",
       "    </tr>\n",
       "  </tbody>\n",
       "</table>\n",
       "<p>502387 rows × 11 columns</p>\n",
       "</div>"
      ],
      "text/plain": [
       "            IID       pc1        pc2        pc3        pc4       pc5  \\\n",
       "0       2097153 -11.53190    4.02887  -2.786470   0.382339 -4.036950   \n",
       "1       5242881 -11.82300    1.26643  -0.430540  -0.281423 -0.491189   \n",
       "2       3145731 -11.33960    1.62085  -1.287520   2.370630 -5.148740   \n",
       "3       4194308 -12.42640    1.79265  -2.471930  -1.426550 -0.434498   \n",
       "4       3145729  78.28770 -117.28800  78.933500  24.817800 -3.975770   \n",
       "...         ...       ...        ...        ...        ...       ...   \n",
       "502382  5242869 -12.52150    1.01588   1.406200   2.026410 -2.451070   \n",
       "502383  1048564  -9.88989    2.76671  -3.700570  -0.991052 -2.821400   \n",
       "502384  5242872 -10.04000    1.80412   3.235950  -9.554090  7.211580   \n",
       "502385  4194297 -11.74190    5.15146  -0.670776  -0.797595 -3.561300   \n",
       "502386  1048570 -10.02110    5.70659  -1.225900  -0.982136 -7.360760   \n",
       "\n",
       "             pc6       pc7       pc8       pc9      pc10  \n",
       "0       1.751570  0.125581 -2.149600 -0.805255  1.539440  \n",
       "1       1.726960  0.856721  1.567190  1.388630 -0.869868  \n",
       "2       1.627040 -0.196365 -2.231230  0.861577  0.787777  \n",
       "3      -0.623471  3.484260  3.406740 -3.223780 -1.370190  \n",
       "4      -3.802220 -2.841740 -4.055550 -2.052640 -6.534530  \n",
       "...          ...       ...       ...       ...       ...  \n",
       "502382  1.533970  3.352110 -0.343544 -2.416730  2.399090  \n",
       "502383 -0.448518  0.155195 -1.216150  0.402192 -1.303620  \n",
       "502384 -3.534950 -4.618610 -2.803120  1.796630  3.617760  \n",
       "502385 -2.790080  1.146850 -1.234980  4.091260  0.388259  \n",
       "502386  0.518280  1.891120 -1.856850  4.159320 -0.087844  \n",
       "\n",
       "[502387 rows x 11 columns]"
      ]
     },
     "execution_count": 138,
     "metadata": {},
     "output_type": "execute_result"
    }
   ],
   "source": [
    "pc_data"
   ]
  },
  {
   "cell_type": "code",
   "execution_count": 139,
   "id": "7ff38030-0e63-4cdd-8b2b-5be9655545b5",
   "metadata": {},
   "outputs": [
    {
     "name": "stderr",
     "output_type": "stream",
     "text": [
      "/var/folders/y5/tr1yp82s2ns2_4g_6flxk45jrqb07t/T/ipykernel_72570/80522655.py:1: DtypeWarning: Columns (439,440,441,443,445,447) have mixed types. Specify dtype option on import or set low_memory=False.\n",
      "  new_data = pd.read_csv(\"/Users/dadua2/EssentialCodeBase/data/clinical/raw_data/23_03_ukbb/card/ukb672198.csv\")\n"
     ]
    }
   ],
   "source": [
    "new_data = pd.read_csv(\"/Users/dadua2/EssentialCodeBase/data/clinical/raw_data/23_03_ukbb/card/ukb672198.csv\")"
   ]
  },
  {
   "cell_type": "code",
   "execution_count": 140,
   "id": "c740dc68-99ae-4476-8a99-9f9ef4f097f8",
   "metadata": {},
   "outputs": [],
   "source": [
    "mapping_MS_26254 = dict(zip(list(new_data['eid']), list(new_data['26254-0.0'])))\n",
    "mapping_SCZ_26275 = dict(zip(list(new_data['eid']), list(new_data['26275-0.0'])))\n",
    "mapping_ISS_26248 = dict(zip(list(new_data['eid']), list(new_data['26248-0.0'])))\n",
    "mapping_HT_26244 = dict(zip(list(new_data['eid']), list(new_data['26244-0.0'])))\n",
    "mapping_AD_26206 = dict(zip(list(new_data['eid']), list(new_data['26206-0.0'])))"
   ]
  },
  {
   "cell_type": "code",
   "execution_count": 141,
   "id": "d06ac27b-4ad9-4e07-b7b4-e72b2a889317",
   "metadata": {},
   "outputs": [],
   "source": [
    "data['MS_PRS'] = data['eid_nih'].map(mapping_MS_26254)\n",
    "data['SCZ_PRS'] = data['eid_nih'].map(mapping_SCZ_26275)\n",
    "data['ISS_PRS'] = data['eid_nih'].map(mapping_ISS_26248)\n",
    "data['HT_PRS'] = data['eid_nih'].map(mapping_HT_26244)\n",
    "data['AD_PRS'] = data['eid_nih'].map(mapping_AD_26206)\n",
    "data['PD_PRS'] = data['PD_prs'].values\n",
    "data['study_diagnosis'] = 'UKBB_ALL'"
   ]
  },
  {
   "cell_type": "code",
   "execution_count": 142,
   "id": "70f27ec7-1dcd-4df9-9261-d72f153c8319",
   "metadata": {},
   "outputs": [],
   "source": [
    "H = data.copy()\n",
    "# H['age_ukbb'] = H['Age.when.attended.assessment.centre_nih'].values\n",
    "H['age'] = (H['Date_of_attending_assessment_centre'] - H['birthMonthYear']) / 365\n",
    "H['subject_id'] = H['eid_nih'].values\n",
    "# H['years_from_baseline'] = (H['Date_of_attending_assessment_centre'] - H['Date_of_attending_assessment_centre_i2']) / 365\n",
    "# H['baseline_age'] = H['Age_i2']"
   ]
  },
  {
   "cell_type": "code",
   "execution_count": 143,
   "id": "c945d2bd-c743-4932-8699-20c3dc8efbf3",
   "metadata": {},
   "outputs": [],
   "source": [
    "s = H.groupby('subject_id').agg({'age': 'min'})\n",
    "bage = dict(zip(list(s.index), list(s['age'])))\n",
    "H['baseline_age'] = H['subject_id'].map(bage)\n",
    "H['years_from_baseline'] = H['age'] - H['baseline_age']"
   ]
  },
  {
   "cell_type": "code",
   "execution_count": 144,
   "id": "1a00b358-453c-4755-bf0e-b070d2a9bc2c",
   "metadata": {},
   "outputs": [],
   "source": [
    "required_columns = {\n",
    "    'AD_imaging_score': \"un_AD_score\", \n",
    "    'PD_imaging_score': \"un_PD_score\",\n",
    "    'norm_AD_imaging_score': \"AD_score\", \n",
    "    'norm_PD_imaging_score': \"PD_score\",\n",
    "    'MS_PRS': 'MS_PRS',\n",
    "    'SCZ_PRS': 'SCZ_PRS',\n",
    "    'ISS_PRS': 'ISS_PRS',\n",
    "    'HT_PRS': 'HT_PRS',\n",
    "    'AD_PRS': 'AD_PRS',\n",
    "    'PD_PRS': 'PD_PRS',\n",
    "    'townsend': 'townsend',\n",
    "    'Sex': 'gender',\n",
    "    'ukbb_id_nih': 'ukbb_id_nih',\n",
    "    'Date_of_ALL_DEMENTIA': 'Date_of_ALL_DEMENTIA',\n",
    "    'Date_of_PD': 'Date_of_PD',\n",
    "    'Date_of_MND': 'Date_of_MND',\n",
    "    'Date_of_FTD': 'Date_of_FTD',\n",
    "    'Date_of_VAD': 'Date_of_VAD',\n",
    "    'Date_of_AD': 'Date_of_AD',\n",
    "    'Date_of_all_cause_death': 'Date_of_all_cause_death',\n",
    "    'Date_of_STROKE': 'Date_of_STROKE',\n",
    "    'Date_of_MS': 'Date_of_MS',\n",
    "    'Date_of_OtMOVEMENT': 'Date_of_OtMOVEMENT',\n",
    "    'Date_of_DYSTONIA': 'Date_of_DYSTONIA',\n",
    "    'Date_of_SMA': 'Date_of_SMA',\n",
    "    'Date_of_EPILEPSY': 'Date_of_EPILEPSY',\n",
    "    # 'Date_of_attending_assessment_centre': 'age',\n",
    "}"
   ]
  },
  {
   "cell_type": "code",
   "execution_count": 145,
   "id": "5382dee7-1ef4-4313-bc2f-fb5e050db50f",
   "metadata": {},
   "outputs": [],
   "source": [
    "disease_columns = {\n",
    "    'Date_of_ALL_DEMENTIA': 'Date_of_ALL_DEMENTIA',\n",
    "    'Date_of_PD': 'Date_of_PD',\n",
    "    'Date_of_MND': 'Date_of_MND',\n",
    "    'Date_of_FTD': 'Date_of_FTD',\n",
    "    'Date_of_VAD': 'Date_of_VAD',\n",
    "    'Date_of_AD': 'Date_of_AD',\n",
    "    'Date_of_all_cause_death': 'Date_of_all_cause_death',\n",
    "    'Date_of_STROKE': 'Date_of_STROKE',\n",
    "    'Date_of_MS': 'Date_of_MS',\n",
    "    'Date_of_OtMOVEMENT': 'Date_of_OtMOVEMENT',\n",
    "    'Date_of_DYSTONIA': 'Date_of_DYSTONIA',\n",
    "    'Date_of_SMA': 'Date_of_SMA',\n",
    "    'Date_of_EPILEPSY': 'Date_of_EPILEPSY',\n",
    "}\n",
    "\n",
    "for col in disease_columns:\n",
    "    H['_'.join(col.split('_')[2:])] = H[col].map(lambda x: '_'.join(str(col).split('_')[2:]) if not pd.isnull(x) else f\"HC_{'_'.join(str(col).split('_')[2:])}\")\n",
    "    required_columns['_'.join(col.split('_')[2:])] = '_'.join(col.split('_')[2:])\n",
    "    H['ageDiagnosis_' + '_'.join(col.split('_')[2:])] = (H[col] - H['birthMonthYear'])/365\n",
    "    required_columns['ageDiagnosis_' + '_'.join(col.split('_')[2:])] = 'ageDiagnosis_' + '_'.join(col.split('_')[2:])\n",
    "    "
   ]
  },
  {
   "cell_type": "code",
   "execution_count": 146,
   "id": "2c33a4cd-9d20-4656-b617-e564278df8b5",
   "metadata": {},
   "outputs": [],
   "source": [
    "more_cols = list(required_columns)\n",
    "more_cols += ['subject_id', 'baseline_age', 'years_from_baseline', 'study_diagnosis', 'age']"
   ]
  },
  {
   "cell_type": "code",
   "execution_count": 147,
   "id": "46e1a8f3-4347-4b95-b43c-69dc582295be",
   "metadata": {},
   "outputs": [],
   "source": [
    "K = H[more_cols].rename(columns=required_columns).copy()"
   ]
  },
  {
   "cell_type": "code",
   "execution_count": 148,
   "id": "def96eed-38ce-4f80-96dc-dc14d35adfda",
   "metadata": {},
   "outputs": [
    {
     "name": "stderr",
     "output_type": "stream",
     "text": [
      "100%|███████████████████████████████████████████████████████████████████████████████████████████████████████████████████████████████████████████████████████████████████████████████████████████████████████| 46212/46212 [00:15<00:00, 2903.05it/s]\n"
     ]
    }
   ],
   "source": [
    "diagnosis = []\n",
    "from tqdm import tqdm\n",
    "for i in tqdm(range(len(K))):\n",
    "    # if pd.isnull(LOPOL.iloc[i]['Date_of_ALL_DEMENTIA']) and pd.isnull(LOPOL.iloc[i]['Date_of_PD']) and pd.isnull(LOPOL.iloc[i]['Date_of_PD']) \n",
    "    # and pd.isnull(LOPOL.iloc[i]['Date_of_PD']) and pd.isnull(LOPOL.iloc[i]['Date_of_PD']):\n",
    "    #     diagnosis.append(\"HC\")\n",
    "    if not pd.isnull(K.iloc[i]['Date_of_ALL_DEMENTIA']):\n",
    "        diagnosis.append('ALL_DEMENTIA')\n",
    "    elif not pd.isnull(K.iloc[i]['Date_of_PD']):\n",
    "        diagnosis.append('PD')\n",
    "    elif not pd.isnull(K.iloc[i]['Date_of_AD']):\n",
    "        diagnosis.append('AD')\n",
    "    elif not pd.isnull(K.iloc[i]['Date_of_VAD']):\n",
    "        diagnosis.append('VAD')\n",
    "    elif not pd.isnull(K.iloc[i]['Date_of_MND']):\n",
    "        diagnosis.append('MND')\n",
    "    elif not pd.isnull(K.iloc[i]['Date_of_FTD']):\n",
    "        diagnosis.append('FTD')\n",
    "    elif not pd.isnull(K.iloc[i]['Date_of_MS']):\n",
    "        diagnosis.append('MS')\n",
    "    elif not pd.isnull(K.iloc[i]['Date_of_STROKE']):\n",
    "        diagnosis.append('STROKE')\n",
    "    # elif (LOPOL.iloc[i]['age'] > 68):\n",
    "    #    diagnosis.append(\"HC\")\n",
    "    else:\n",
    "        diagnosis.append(\"HC\")"
   ]
  },
  {
   "cell_type": "code",
   "execution_count": 149,
   "id": "a9e56f9c-31e6-42ad-a4ba-56ce5de85bde",
   "metadata": {},
   "outputs": [],
   "source": [
    "K['study_diagnosis'] = diagnosis\n",
    "K['study_diagnosis'] = 'UKBB_' + K['study_diagnosis']"
   ]
  },
  {
   "cell_type": "code",
   "execution_count": 150,
   "id": "a915af22-c0bd-47ba-b9dd-a98f7b730f3a",
   "metadata": {},
   "outputs": [],
   "source": [
    "K = pd.merge(K, pc_data.rename(columns={'IID': 'subject_id'}), left_on='subject_id', right_on='subject_id')"
   ]
  },
  {
   "cell_type": "code",
   "execution_count": 151,
   "id": "bd2caab3-a002-4b3f-9ea8-00ec78b65c8b",
   "metadata": {},
   "outputs": [],
   "source": [
    "from sklearn.decomposition import PCA\n",
    "pca = PCA(n_components=1)\n",
    "K.loc[K[['HT_PRS', 'ISS_PRS']].dropna().index, 'pca_HT_ISS_PRS'] = pca.fit_transform(K[['HT_PRS', 'ISS_PRS']].dropna().values)"
   ]
  },
  {
   "cell_type": "code",
   "execution_count": 152,
   "id": "e4a9f0de-4d7d-4737-ac8f-8b8b8305e892",
   "metadata": {},
   "outputs": [],
   "source": [
    "pca = PCA(n_components=2)\n",
    "K.loc[K[['HT_PRS', 'ISS_PRS', 'MS_PRS', 'AD_PRS', 'PD_PRS', 'SCZ_PRS']].dropna().index, 'pca1_prs'] = pca.fit_transform(K[['HT_PRS', 'ISS_PRS', 'MS_PRS', 'AD_PRS', 'PD_PRS', 'SCZ_PRS']].dropna().values)[:,0]\n",
    "K.loc[K[['HT_PRS', 'ISS_PRS', 'MS_PRS', 'AD_PRS', 'PD_PRS', 'SCZ_PRS']].dropna().index, 'pca2_prs'] = pca.fit_transform(K[['HT_PRS', 'ISS_PRS', 'MS_PRS', 'AD_PRS', 'PD_PRS', 'SCZ_PRS']].dropna().values)[:,1]"
   ]
  },
  {
   "cell_type": "code",
   "execution_count": 153,
   "id": "42f53620-c680-42bf-9008-f3d789a68abb",
   "metadata": {},
   "outputs": [],
   "source": [
    "s = K.groupby('subject_id').agg({'age': 'count'})\n",
    "long_subjects = s[s['age']>1].index\n",
    "not_longitudinal_data = K[~(K['subject_id'].isin(long_subjects))].copy()"
   ]
  },
  {
   "cell_type": "code",
   "execution_count": 154,
   "id": "43519ce5-9a88-42b4-bba5-01836461cf43",
   "metadata": {},
   "outputs": [],
   "source": [
    "longitudinal_data = K[K['subject_id'].isin(long_subjects)].copy()\n",
    "crossectional_data = K.sort_values(by=['subject_id', 'age']).drop_duplicates(subset=['subject_id']).copy()\n",
    "combined_data = K.copy()"
   ]
  },
  {
   "cell_type": "code",
   "execution_count": 155,
   "id": "13710f9a-ba3d-4f1e-bdd9-e925ee0278b3",
   "metadata": {},
   "outputs": [],
   "source": [
    "combined_data.to_csv(\"streamlit_app/ukbb_combined_data2.csv\", index=False)\n",
    "crossectional_data.to_csv(\"streamlit_app/ukbb_baseline_data2.csv\", index=False)\n",
    "longitudinal_data.to_csv(\"streamlit_app/ukbb_longitudinal_data2.csv\", index=False)"
   ]
  },
  {
   "cell_type": "code",
   "execution_count": 158,
   "id": "ce682f12-a8e1-4111-9285-9f21be222a43",
   "metadata": {},
   "outputs": [],
   "source": [
    "# selected_subject = list(crossectional_data[(crossectional_data.ageDiagnosis_PD < crossectional_data.baseline_age)].subject_id)\n",
    "# selected_subject = list(df_orig[(df_orig.ageDiagnosis_PD < df_orig.baseline_age)].subject_id)\n",
    "# selected_subject += list(df_orig[pd.isnull(df_orig.ageDiagnosis_PD)].subject_id)\n",
    "# exec(\"\"\"selected_subject = list(crossectional_data[(crossectional_data['ageDiagnosis_PD'] < crossectional_data['baseline_age'])]['subject_id'])\"\"\")\n",
    "# exec(\"\"\"selected_subject += list(crossectional_data[pd.isnull(crossectional_data['ageDiagnosis_PD'])]['subject_id'])\"\"\")"
   ]
  },
  {
   "cell_type": "code",
   "execution_count": null,
   "id": "f76390c1-b890-4980-a13e-ba88556d0333",
   "metadata": {},
   "outputs": [],
   "source": []
  }
 ],
 "metadata": {
  "kernelspec": {
   "display_name": "Python 3 (ipykernel)",
   "language": "python",
   "name": "python3"
  },
  "language_info": {
   "codemirror_mode": {
    "name": "ipython",
    "version": 3
   },
   "file_extension": ".py",
   "mimetype": "text/x-python",
   "name": "python",
   "nbconvert_exporter": "python",
   "pygments_lexer": "ipython3",
   "version": "3.8.16"
  }
 },
 "nbformat": 4,
 "nbformat_minor": 5
}
