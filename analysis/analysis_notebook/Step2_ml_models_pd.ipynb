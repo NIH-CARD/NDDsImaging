{
 "cells": [
  {
   "cell_type": "code",
   "execution_count": 36,
   "id": "ee4ccaae-2d94-415a-8401-3b0ea6a07603",
   "metadata": {},
   "outputs": [],
   "source": [
    "import pickle\n",
    "import pandas as pd\n",
    "import copy\n",
    "import os\n",
    "import numpy as np\n",
    "# import torch\n",
    "from omegaconf import OmegaConf\n",
    "import ast\n",
    "import sys\n",
    "# from definitions import RESULTS_DIR, ROOT_DIR_INSIDE\n",
    "import pickle\n",
    "import pandas as pd\n",
    "import copy\n",
    "import os\n",
    "import numpy as np\n",
    "import ast\n",
    "# from xgboost import XGBClassifier\n",
    "from sklearn import metrics\n",
    "# root_dir = ROOT_DIR_INSIDE\n",
    "# config = OmegaConf.load(f\"{sys.argv[1]}/config.yaml\")\n",
    "input_data_dir = '/Users/projects_data/project_MLPhenotypesMRIGWAS/ml_generated_data/23_03_30/predictiveModel/pd_imaging.h5ad'\n",
    "fname = os.path.basename(input_data_dir).split('.')[0]\n",
    "# data_dir = f\"{RESULTS_DIR}/prediction_results/example\"\n",
    "all_predictions = {}\n",
    "\n",
    "def get_obs_data_anndata(fold_name):\n",
    "    import anndata as ad\n",
    "    adata = ad.read(\"/Users/projects_data/project_MLPhenotypesMRIGWAS/ml_generated_data/23_03_30/predictiveModel/pd_imaging.h5ad\")\n",
    "    split_column = \"subject_id-DIAGNOSIS-StratifiedGroupKFold_GroupShuffleSplit_42_42\"\n",
    "    train_data = adata[adata.obsm['train_val_test_split'][~(adata.obsm['train_val_test_split'][split_column] .isin ([fold_name]))].index]\n",
    "    val_data = adata[adata.obsm['train_val_test_split'][adata.obsm['train_val_test_split'][split_column] .isin ([fold_name])].index]\n",
    "    X_train = np.array(train_data.X, dtype=np.float32)\n",
    "    X_val = np.array(val_data.X, dtype=np.float32)\n",
    "    y_train = np.array(train_data.obs['DIAGNOSIS'], dtype=np.float32)\n",
    "    y_val = np.array(val_data.obs['DIAGNOSIS'], dtype=np.float32)\n",
    "    return val_data.obs\n",
    "\n",
    "obs = pd.concat([get_obs_data_anndata('fold1'), get_obs_data_anndata('fold2'), get_obs_data_anndata('fold3')])"
   ]
  },
  {
   "cell_type": "code",
   "execution_count": 37,
   "id": "1c9c717c-baac-4ae5-9fb1-905ceba4af40",
   "metadata": {},
   "outputs": [],
   "source": [
    "from pathlib import Path\n",
    "RESULTS_DIR = Path(\"/Users/EssentialCodeBase/project_MLPhenotypesMRIGWAS/block1_BaselineClassification/training/23_03_30/results_data\")"
   ]
  },
  {
   "cell_type": "code",
   "execution_count": 38,
   "id": "375e418e-69af-4244-a6db-a79ee3ec0f77",
   "metadata": {},
   "outputs": [],
   "source": [
    "for model_name in [\"LogisticRegression\", \"skorchMLPClassifier\", \"XGBClassifier\"]:\n",
    "    with open(RESULTS_DIR / f'predictiveAnalysis/execute_ensemble_models/ensemble_data/{fname}_{model_name}_best_model_prediction.pkl', 'rb') as t:\n",
    "        all_predictions.update({f\"{fname}#{i}\":j for i,j in pickle.load(t).items()})"
   ]
  },
  {
   "cell_type": "code",
   "execution_count": 39,
   "id": "a35cadf2-e871-411a-91f1-48f0c0078042",
   "metadata": {},
   "outputs": [
    {
     "name": "stdout",
     "output_type": "stream",
     "text": [
      "{'type': 'optuna', 'num_trials': 20, 'multi_class': 'multinomial', 'random_state': 42, 'FeatureSelection': 'IDENTITY', 'solver': 'saga', 'max_iter': 100, 'C': 184.46, 'penalty': 'l2'}\n",
      "{'type': 'optuna', 'num_trials': 100, 'hidden_layer_sizes': [64, 32], 'max_epochs': 500, 'FeatureSelection': 'LASSO', 'optimizer': 'adamw', 'early_stopping': 1, 'random_state': 42, 'layers': 2, 'layer_size': [1, 512], 'learning_rate': [1e-05, 0.01], 'dropout': [0.0, 0.5], 'weight_decay': [1e-06, 0.001], 'layer_size0': 85, 'layer_size1': 337, 'module__dropout': 0.46, 'lr': 0.0, 'optimizer__weight_decay': 0.0}\n",
      "{'type': 'optuna', 'num_trials': 200, 'objective': 'multi:softprob', 'seed': 42, 'nthread': 4, 'silent': 1, 'n_estimators': 45, 'booster': 'gbtree', 'learning_rate': 0.0, 'reg_lambda': 7.55, 'gamma': 40.45, 'reg_alpha': 0.0, 'max_depth': 10, 'min_child_weight': 0.0, 'subsample': 0.52, 'colsample_bytree': 0.69, 'tree_method': 'gpu_hist', 'predictor': 'cpu_predictor', 'max_bin': 289, 'FeatureSelection': 'LASSO', 'colsample_bylevel': 0.1, 'early_stopping_rounds': 45, 'max_leaves': 740, 'scale_pos_weight': 3.54}\n"
     ]
    }
   ],
   "source": [
    "csv_file_location = \"/Users/EssentialCodeBase/project_MLPhenotypesMRIGWAS/block1_BaselineClassification/training/23_03_30/results_data/prediction_results/example/apr5/IMAGING_PDPREDICTION_CLASSIFIER/basic_numerical$imaging__pddiagnosisprediction_train100$feature$sample\"\n",
    "for model_name in ['LogisticRegression', 'skorchMLPClassifier', 'XGBClassifier']:\n",
    "    leaderboard_df = pd.read_csv(f\"{csv_file_location}/csv_files/leaderboard_df.csv\")\n",
    "    agg_leaderboard_df = pd.read_csv(f\"{csv_file_location}/csv_files/agg_leaderboard_df.csv\")\n",
    "    leaderboard_df = leaderboard_df[leaderboard_df['model_name'].isin([model_name])]\n",
    "    agg_leaderboard_df = agg_leaderboard_df[agg_leaderboard_df['model_name'].isin([model_name])]\n",
    "    config_mapping = dict(zip(leaderboard_df['config_index'], leaderboard_df['config'].map(lambda x: ast.literal_eval(x))))\n",
    "    config_index1 = agg_leaderboard_df.iloc[0]['config_index']\n",
    "    main_config_grid = OmegaConf.load(f\"/Users/EssentialCodeBase/BaselineClassification/PredictiveModeling/src_basic/optuna_hyperparameters_with_index.json\")\n",
    "    classifier_params = main_config_grid['IMC'][model_name]['hp0']\n",
    "    classifier_params.update(config_mapping[config_index1])\n",
    "    dfg = classifier_params\n",
    "    for key, val in dfg.items():\n",
    "        try:\n",
    "            dfg[key] = round(val, 2)\n",
    "        except:\n",
    "            pass\n",
    "    print (dfg)"
   ]
  },
  {
   "cell_type": "code",
   "execution_count": 20,
   "id": "867348f0-eb1a-4df0-8111-111f077bbf6a",
   "metadata": {},
   "outputs": [],
   "source": [
    "model_list = list(all_predictions)\n",
    "model_list\n",
    "\n",
    "from collections import defaultdict\n",
    "model_list = list(all_predictions)\n",
    "ll_loss_df = defaultdict(list)\n",
    "full_dataframe_list = []\n",
    "for e, model_name in enumerate(model_list):\n",
    "    data_list = []\n",
    "    for e, fold_name in enumerate(sorted(list(all_predictions[model_name]))):\n",
    "        logloss_value = metrics.log_loss(all_predictions[model_name][fold_name]['y_val'], all_predictions[model_name][fold_name]['y_pred_val'])\n",
    "        auc_value = metrics.roc_auc_score(all_predictions[model_name][fold_name]['y_val'], all_predictions[model_name][fold_name]['y_pred_val'][:, 1] , multi_class='ovo' )\n",
    "        ll_loss_df['fold'].append(fold_name)\n",
    "        ll_loss_df['model_name'].append(model_name)\n",
    "        ll_loss_df['ll_loss'].append(logloss_value)\n",
    "        ll_loss_df['micro_auc'].append(auc_value)\n",
    "        ll_loss_df['accuracy'].append(  metrics.accuracy_score(all_predictions[model_name][fold_name]['y_val'], np.argmax(all_predictions[model_name][fold_name]['y_pred_val'], axis=1 ) )   )\n",
    "        macro_auc = np.mean([metrics.roc_auc_score(all_predictions[model_name][fold_name]['y_val'] == i, all_predictions[model_name][fold_name]['y_pred_val'][:,i]) for i in range(2)])\n",
    "        ll_loss_df['macro_auc'].append(macro_auc)\n",
    "        temp1 = pd.DataFrame(all_predictions[model_name][fold_name]['y_val'], columns=[f'y_true'])\n",
    "        temp1['fold'] = fold_name\n",
    "        temp2 = pd.DataFrame(all_predictions[model_name][fold_name]['y_pred_val'], columns=[f'{model_name}-y_pred{i}' for i in range(all_predictions[model_name][fold_name]['y_pred_val'].shape[1])])\n",
    "        data_list.append(pd.concat([temp1, temp2], axis=1).set_index(['fold', 'y_true']))\n",
    "    full_dataframe_list.append(pd.concat(data_list, axis=0))\n",
    "    "
   ]
  },
  {
   "cell_type": "code",
   "execution_count": 21,
   "id": "ce4226f7-5963-4e77-9e81-e195b5bd6047",
   "metadata": {},
   "outputs": [
    {
     "name": "stdout",
     "output_type": "stream",
     "text": [
      "----------------------------------------------------------------------------------------------------\n",
      "                                      ll_loss      micro_auc       accuracy  \\\n",
      "model_name                                                                    \n",
      "pd_imaging#LogisticRegression   0.6381+/-0.04  0.6474+/-0.03  0.7159+/-0.02   \n",
      "pd_imaging#XGBClassifier         0.6846+/-0.0      0.5+/-0.0  0.7467+/-0.04   \n",
      "pd_imaging#skorchMLPClassifier  0.5666+/-0.05  0.5729+/-0.03  0.7467+/-0.04   \n",
      "\n",
      "                                    macro_auc  \n",
      "model_name                                     \n",
      "pd_imaging#LogisticRegression   0.6474+/-0.03  \n",
      "pd_imaging#XGBClassifier            0.5+/-0.0  \n",
      "pd_imaging#skorchMLPClassifier  0.5729+/-0.03  \n"
     ]
    },
    {
     "name": "stderr",
     "output_type": "stream",
     "text": [
      "/var/folders/y5/tr1yp82s2ns2_4g_6flxk45jrqb07t/T/ipykernel_78953/317826522.py:6: FutureWarning: ['fold'] did not aggregate successfully. If any error is raised this will raise in a future version of pandas. Drop these columns/ops to avoid this warning.\n",
      "  print (pd.DataFrame(ll_loss_df).groupby('model_name').agg(f_mean))\n"
     ]
    }
   ],
   "source": [
    "def f_mean(x):\n",
    "    return str(round(np.mean(list(x)), 4)) + '+/-' + str(np.std(list(x)).round(2))\n",
    "    \n",
    "full_dataframe = pd.concat(full_dataframe_list, axis=1)\n",
    "print ('-'*100)\n",
    "print (pd.DataFrame(ll_loss_df).groupby('model_name').agg(f_mean))\n",
    "\n",
    "\n",
    "L = full_dataframe.copy()\n",
    "L.index = obs.index\n",
    "# L.reset_index().to_csv(\"embeddings/all_concat_full_dataframe.csv\", index=False)\n",
    "\n",
    "def get_training_data_numpy(fold_name):\n",
    "    full_dataframe_folds = full_dataframe.reset_index()\n",
    "    full_dataframe_val = full_dataframe_folds[full_dataframe_folds['fold']==fold_name]\n",
    "    full_dataframe_train = full_dataframe_folds[~(full_dataframe_folds['fold']==fold_name)]\n",
    "    X_train = full_dataframe_train.iloc[:, 2:].values.astype(np.float32)\n",
    "    X_val = full_dataframe_val.iloc[:, 2:].values.astype(np.float32)\n",
    "    y_train = full_dataframe_train.iloc[:, 1].values.astype(np.int64)\n",
    "    y_val = full_dataframe_val.iloc[:, 1].values.astype(np.int64)\n",
    "    return X_train, X_val, y_train, y_val\n"
   ]
  },
  {
   "cell_type": "code",
   "execution_count": 22,
   "id": "aee4e32e-c176-42a1-88e7-51a5923e6638",
   "metadata": {},
   "outputs": [],
   "source": [
    "\n",
    "from omegaconf import OmegaConf\n",
    "from sklearn.linear_model import LogisticRegression\n",
    "# from lightgbm import LGBMClassifier\n",
    "# from PredictiveModeling.src_basic.skorch_models import skorchMLPClassifier\n",
    "\n",
    "# optuna_config_grid = OmegaConf.load(f\"{ROOT_DIR_INSIDE}/PredictiveModeling/src_basic/{config['tuning_type']}_hyperparameters_with_index.json\")\n",
    "\n",
    "L = full_dataframe.copy()\n",
    "L.index = obs.index"
   ]
  },
  {
   "cell_type": "code",
   "execution_count": null,
   "id": "bf8287c9-367a-448c-89b6-1f727ecc7e9d",
   "metadata": {},
   "outputs": [],
   "source": []
  },
  {
   "cell_type": "code",
   "execution_count": 23,
   "id": "d751222d-3059-49bc-a14b-fa21f7ac16c1",
   "metadata": {},
   "outputs": [],
   "source": [
    "import pickle\n",
    "with open(RESULTS_DIR / f'predictiveAnalysis/execute_ensemble_models/ensemble_data/{fname}_ensembleWeights_best_model_prediction.pkl', 'rb') as t:\n",
    "    ensemble_weights = pickle.load(t)"
   ]
  },
  {
   "cell_type": "code",
   "execution_count": 24,
   "id": "3be09c1b-867e-4224-986a-bacb20f080d4",
   "metadata": {},
   "outputs": [
    {
     "data": {
      "text/plain": [
       "{'pd_imaging#LogisticRegression': 0.42749628067654155,\n",
       " 'pd_imaging#skorchMLPClassifier': 0.550098560653293,\n",
       " 'pd_imaging#XGBClassifier': 0.022405158670165418}"
      ]
     },
     "execution_count": 24,
     "metadata": {},
     "output_type": "execute_result"
    }
   ],
   "source": [
    "ensemble_weights"
   ]
  },
  {
   "cell_type": "code",
   "execution_count": 25,
   "id": "5a49372c-5e4b-4fc7-9832-220460c97939",
   "metadata": {},
   "outputs": [
    {
     "name": "stdout",
     "output_type": "stream",
     "text": [
      "----------------------------------------------------------------------------------------------------\n",
      "   const   fold   cv_macro_auc     cv_logloss   cv_micro_auc    cv_accuracy\n",
      "0      0  fold1       0.642857       0.515988       0.642857       0.758621\n",
      "1      0  fold2       0.611768        0.53344       0.611768       0.758621\n",
      "2      0  fold3        0.67538       0.591843        0.67538       0.680782\n",
      "0      0   fold  0.6433+/-0.03  0.5471+/-0.03  0.6433+/-0.03  0.7327+/-0.04\n",
      "----------------------------------------------------------------------------------------------------\n",
      "                                      ll_loss      micro_auc       accuracy  \\\n",
      "model_name                                                                    \n",
      "pd_imaging#LogisticRegression   0.6381+/-0.04  0.6474+/-0.03  0.7159+/-0.02   \n",
      "pd_imaging#XGBClassifier         0.6846+/-0.0      0.5+/-0.0  0.7467+/-0.04   \n",
      "pd_imaging#skorchMLPClassifier  0.5666+/-0.05  0.5729+/-0.03  0.7467+/-0.04   \n",
      "\n",
      "                                    macro_auc  \n",
      "model_name                                     \n",
      "pd_imaging#LogisticRegression   0.6474+/-0.03  \n",
      "pd_imaging#XGBClassifier            0.5+/-0.0  \n",
      "pd_imaging#skorchMLPClassifier  0.5729+/-0.03  \n"
     ]
    },
    {
     "name": "stderr",
     "output_type": "stream",
     "text": [
      "/var/folders/y5/tr1yp82s2ns2_4g_6flxk45jrqb07t/T/ipykernel_78953/4155623755.py:29: FutureWarning: ['fold'] did not aggregate successfully. If any error is raised this will raise in a future version of pandas. Drop these columns/ops to avoid this warning.\n",
      "  avg = pd.DataFrame(cv_all_results).groupby('const').agg(f_mean).reset_index()\n",
      "/var/folders/y5/tr1yp82s2ns2_4g_6flxk45jrqb07t/T/ipykernel_78953/4155623755.py:39: FutureWarning: ['fold'] did not aggregate successfully. If any error is raised this will raise in a future version of pandas. Drop these columns/ops to avoid this warning.\n",
      "  print (pd.DataFrame(ll_loss_df).groupby('model_name').agg(f_mean))\n"
     ]
    }
   ],
   "source": [
    "d_ensemble = {}\n",
    "for col in full_dataframe.columns:\n",
    "    w = ensemble_weights[col.split('-')[0]]\n",
    "    pred_name = col.split('-')[1]\n",
    "    d_ensemble['ensemble-'+pred_name] = d_ensemble.get('ensemble-'+pred_name, 0) + w * full_dataframe[col].values\n",
    "    \n",
    "\n",
    "ensembled_prediction = pd.DataFrame(d_ensemble)\n",
    "ensembled_prediction.index = full_dataframe.index\n",
    "ensembled_prediction = ensembled_prediction.reset_index()\n",
    "from collections import defaultdict\n",
    "def f_mean(x):\n",
    "    return str(round(np.mean(list(x)), 4)) + '+/-' + str(np.std(list(x)).round(2))\n",
    "    \n",
    "g = list(ensembled_prediction.groupby('fold'))\n",
    "cv_all_results = defaultdict(list)\n",
    "\n",
    "for i in range(len(g)):  \n",
    "    temp = g[i][1]\n",
    "    cv_all_results['const'].append(0)\n",
    "    cv_all_results['fold'].append(g[i][0])\n",
    "    macro_auc = np.mean([metrics.roc_auc_score(temp['y_true'].values == i, temp.iloc[:, 2:].values[:,i]) for i in range(2)])\n",
    "    cv_all_results['cv_macro_auc'].append(macro_auc)\n",
    "    cv_all_results['cv_logloss'].append(  metrics.log_loss(temp['y_true'].values, temp.iloc[:, 2:])   )\n",
    "    cv_all_results['cv_micro_auc'].append(  metrics.roc_auc_score(temp['y_true'].values, temp.iloc[:, 3] , multi_class='ovo' ) )\n",
    "    cv_all_results['cv_accuracy'].append(  metrics.accuracy_score(temp['y_true'].values, np.argmax(temp.iloc[:, 2:].values, axis=1 ) )   )\n",
    "    \n",
    "\n",
    "avg = pd.DataFrame(cv_all_results).groupby('const').agg(f_mean).reset_index()\n",
    "avg['fold'] = 'fold'\n",
    "\n",
    "\n",
    "cv_all_results_df = pd.DataFrame(cv_all_results)\n",
    "print ('-'*100)\n",
    "print (pd.concat([cv_all_results_df, avg]))\n",
    "\n",
    "\n",
    "print ('-'*100)\n",
    "print (pd.DataFrame(ll_loss_df).groupby('model_name').agg(f_mean))\n"
   ]
  },
  {
   "cell_type": "code",
   "execution_count": 26,
   "id": "a918d215-5dcf-4034-9f85-68245f8ce7b6",
   "metadata": {},
   "outputs": [
    {
     "data": {
      "text/plain": [
       "6"
      ]
     },
     "execution_count": 26,
     "metadata": {},
     "output_type": "execute_result"
    }
   ],
   "source": [
    "len(cv_all_results)"
   ]
  },
  {
   "cell_type": "code",
   "execution_count": 27,
   "id": "15bf1c0b-6d2e-4be7-95c5-99a2f043875e",
   "metadata": {},
   "outputs": [
    {
     "data": {
      "text/plain": [
       "defaultdict(list,\n",
       "            {'const': [0, 0, 0],\n",
       "             'fold': ['fold1', 'fold2', 'fold3'],\n",
       "             'cv_macro_auc': [0.6428571428571429,\n",
       "              0.611768115942029,\n",
       "              0.6753804614629357],\n",
       "             'cv_logloss': [0.5159881400089227,\n",
       "              0.533439608317454,\n",
       "              0.5918430118146706],\n",
       "             'cv_micro_auc': [0.6428571428571429,\n",
       "              0.611768115942029,\n",
       "              0.6753804614629356],\n",
       "             'cv_accuracy': [0.7586206896551724,\n",
       "              0.7586206896551724,\n",
       "              0.6807817589576547]})"
      ]
     },
     "execution_count": 27,
     "metadata": {},
     "output_type": "execute_result"
    }
   ],
   "source": [
    "cv_all_results"
   ]
  },
  {
   "cell_type": "code",
   "execution_count": 28,
   "id": "2f56d2cc-53ed-4fea-8504-f1010b1a02b7",
   "metadata": {},
   "outputs": [
    {
     "data": {
      "text/html": [
       "<div>\n",
       "<style scoped>\n",
       "    .dataframe tbody tr th:only-of-type {\n",
       "        vertical-align: middle;\n",
       "    }\n",
       "\n",
       "    .dataframe tbody tr th {\n",
       "        vertical-align: top;\n",
       "    }\n",
       "\n",
       "    .dataframe thead th {\n",
       "        text-align: right;\n",
       "    }\n",
       "</style>\n",
       "<table border=\"1\" class=\"dataframe\">\n",
       "  <thead>\n",
       "    <tr style=\"text-align: right;\">\n",
       "      <th></th>\n",
       "      <th>fold</th>\n",
       "      <th>y_true</th>\n",
       "      <th>ensemble-y_pred0</th>\n",
       "      <th>ensemble-y_pred1</th>\n",
       "    </tr>\n",
       "  </thead>\n",
       "  <tbody>\n",
       "    <tr>\n",
       "      <th>0</th>\n",
       "      <td>fold1</td>\n",
       "      <td>0.0</td>\n",
       "      <td>0.513898</td>\n",
       "      <td>0.486102</td>\n",
       "    </tr>\n",
       "    <tr>\n",
       "      <th>1</th>\n",
       "      <td>fold1</td>\n",
       "      <td>1.0</td>\n",
       "      <td>0.236703</td>\n",
       "      <td>0.763297</td>\n",
       "    </tr>\n",
       "    <tr>\n",
       "      <th>2</th>\n",
       "      <td>fold1</td>\n",
       "      <td>0.0</td>\n",
       "      <td>0.411106</td>\n",
       "      <td>0.588894</td>\n",
       "    </tr>\n",
       "    <tr>\n",
       "      <th>3</th>\n",
       "      <td>fold1</td>\n",
       "      <td>0.0</td>\n",
       "      <td>0.226822</td>\n",
       "      <td>0.773178</td>\n",
       "    </tr>\n",
       "    <tr>\n",
       "      <th>4</th>\n",
       "      <td>fold1</td>\n",
       "      <td>1.0</td>\n",
       "      <td>0.231685</td>\n",
       "      <td>0.768315</td>\n",
       "    </tr>\n",
       "    <tr>\n",
       "      <th>...</th>\n",
       "      <td>...</td>\n",
       "      <td>...</td>\n",
       "      <td>...</td>\n",
       "      <td>...</td>\n",
       "    </tr>\n",
       "    <tr>\n",
       "      <th>911</th>\n",
       "      <td>fold3</td>\n",
       "      <td>1.0</td>\n",
       "      <td>0.152408</td>\n",
       "      <td>0.847592</td>\n",
       "    </tr>\n",
       "    <tr>\n",
       "      <th>912</th>\n",
       "      <td>fold3</td>\n",
       "      <td>1.0</td>\n",
       "      <td>0.219231</td>\n",
       "      <td>0.780769</td>\n",
       "    </tr>\n",
       "    <tr>\n",
       "      <th>913</th>\n",
       "      <td>fold3</td>\n",
       "      <td>1.0</td>\n",
       "      <td>0.213356</td>\n",
       "      <td>0.786644</td>\n",
       "    </tr>\n",
       "    <tr>\n",
       "      <th>914</th>\n",
       "      <td>fold3</td>\n",
       "      <td>1.0</td>\n",
       "      <td>0.203344</td>\n",
       "      <td>0.796656</td>\n",
       "    </tr>\n",
       "    <tr>\n",
       "      <th>915</th>\n",
       "      <td>fold3</td>\n",
       "      <td>1.0</td>\n",
       "      <td>0.167063</td>\n",
       "      <td>0.832937</td>\n",
       "    </tr>\n",
       "  </tbody>\n",
       "</table>\n",
       "<p>916 rows × 4 columns</p>\n",
       "</div>"
      ],
      "text/plain": [
       "      fold  y_true  ensemble-y_pred0  ensemble-y_pred1\n",
       "0    fold1     0.0          0.513898          0.486102\n",
       "1    fold1     1.0          0.236703          0.763297\n",
       "2    fold1     0.0          0.411106          0.588894\n",
       "3    fold1     0.0          0.226822          0.773178\n",
       "4    fold1     1.0          0.231685          0.768315\n",
       "..     ...     ...               ...               ...\n",
       "911  fold3     1.0          0.152408          0.847592\n",
       "912  fold3     1.0          0.219231          0.780769\n",
       "913  fold3     1.0          0.213356          0.786644\n",
       "914  fold3     1.0          0.203344          0.796656\n",
       "915  fold3     1.0          0.167063          0.832937\n",
       "\n",
       "[916 rows x 4 columns]"
      ]
     },
     "execution_count": 28,
     "metadata": {},
     "output_type": "execute_result"
    }
   ],
   "source": [
    "ensembled_prediction"
   ]
  },
  {
   "cell_type": "code",
   "execution_count": 33,
   "id": "8701400f-1f29-4787-b249-374bd2979d4f",
   "metadata": {},
   "outputs": [],
   "source": [
    "ensembled_prediction.to_csv(\"data/pd_ensembled_prediction.csv\", index=False)"
   ]
  },
  {
   "cell_type": "code",
   "execution_count": 34,
   "id": "96bc55f0-60ff-44dc-ae64-bb190ea7e553",
   "metadata": {},
   "outputs": [
    {
     "name": "stdout",
     "output_type": "stream",
     "text": [
      "Number of subject Index(['PPMI-4067', 'PPMI-3055', 'PPMI-3064', 'PPMI-3479', 'PPMI-3075',\n",
      "       'PPMI-3855', 'PPMI-3521', 'PPMI-3809', 'PPMI-3901', 'PPMI-3855',\n",
      "       ...\n",
      "       'PPMI-3389', 'PPMI-3351', 'PPMI-3106', 'PPMI-3106', 'PPMI-3411',\n",
      "       'PPMI-3852', 'PPMI-3316', 'PPMI-3112', 'PPMI-3389', 'PPMI-3405'],\n",
      "      dtype='object', name='ID', length=232)\n",
      "Number of unique subject Index(['PPMI-4067', 'PPMI-3055', 'PPMI-3064', 'PPMI-3479', 'PPMI-3075',\n",
      "       'PPMI-3855', 'PPMI-3521', 'PPMI-3809', 'PPMI-3901', 'PPMI-4004',\n",
      "       ...\n",
      "       'PPMI-3779', 'PPMI-3600', 'PPMI-3112', 'PPMI-3316', 'PPMI-3635',\n",
      "       'PPMI-3106', 'PPMI-3389', 'PPMI-3351', 'PPMI-3411', 'PPMI-3405'],\n",
      "      dtype='object', name='ID', length=145)\n"
     ]
    }
   ],
   "source": [
    "print (\"Number of subject\", obs[obs['PHENO']=='Control'].index.map(lambda x: '-'.join(x.split('-')[:2])))\n",
    "print (\"Number of unique subject\", obs[obs['PHENO']=='Control'].index.map(lambda x: '-'.join(x.split('-')[:2])).unique())"
   ]
  },
  {
   "cell_type": "code",
   "execution_count": 35,
   "id": "4326096f-557f-4ea1-9bde-40ea6a543b97",
   "metadata": {},
   "outputs": [
    {
     "name": "stdout",
     "output_type": "stream",
     "text": [
      "Number of subject Index(['PPMI-3789', 'PPMI-3789', 'PPMI-3482', 'PPMI-3089', 'PPMI-3789',\n",
      "       'PPMI-3473', 'PPMI-3051', 'PPMI-3077', 'PPMI-3661', 'PPMI-3789',\n",
      "       ...\n",
      "       'PPMI-4038', 'PPMI-3126', 'PPMI-3130', 'PPMI-4038', 'PPMI-3126',\n",
      "       'PPMI-4038', 'PPMI-3028', 'PPMI-3609', 'PPMI-4051', 'PPMI-4122'],\n",
      "      dtype='object', name='ID', length=684)\n",
      "Number of unique subject Index(['PPMI-3789', 'PPMI-3482', 'PPMI-3089', 'PPMI-3473', 'PPMI-3051',\n",
      "       'PPMI-3077', 'PPMI-3661', 'PPMI-3764', 'PPMI-3470', 'PPMI-4055',\n",
      "       ...\n",
      "       'PPMI-3802', 'PPMI-3060', 'PPMI-3415', 'PPMI-4091', 'PPMI-3126',\n",
      "       'PPMI-4038', 'PPMI-3028', 'PPMI-3609', 'PPMI-4051', 'PPMI-4122'],\n",
      "      dtype='object', name='ID', length=319)\n"
     ]
    }
   ],
   "source": [
    "print (\"Number of subject\", obs[obs['PHENO']=='PD'].index.map(lambda x: '-'.join(x.split('-')[:2])))\n",
    "print (\"Number of unique subject\", obs[obs['PHENO']=='PD'].index.map(lambda x: '-'.join(x.split('-')[:2])).unique())"
   ]
  },
  {
   "cell_type": "code",
   "execution_count": 32,
   "id": "e62aabc8-13e1-480b-881c-220e09a0b65b",
   "metadata": {},
   "outputs": [
    {
     "data": {
      "text/html": [
       "<div>\n",
       "<style scoped>\n",
       "    .dataframe tbody tr th:only-of-type {\n",
       "        vertical-align: middle;\n",
       "    }\n",
       "\n",
       "    .dataframe tbody tr th {\n",
       "        vertical-align: top;\n",
       "    }\n",
       "\n",
       "    .dataframe thead th {\n",
       "        text-align: right;\n",
       "    }\n",
       "</style>\n",
       "<table border=\"1\" class=\"dataframe\">\n",
       "  <thead>\n",
       "    <tr style=\"text-align: right;\">\n",
       "      <th></th>\n",
       "      <th>PHENO</th>\n",
       "      <th>DIAGNOSIS</th>\n",
       "      <th>subject_id</th>\n",
       "      <th>SID</th>\n",
       "      <th>TASK</th>\n",
       "    </tr>\n",
       "    <tr>\n",
       "      <th>ID</th>\n",
       "      <th></th>\n",
       "      <th></th>\n",
       "      <th></th>\n",
       "      <th></th>\n",
       "      <th></th>\n",
       "    </tr>\n",
       "  </thead>\n",
       "  <tbody>\n",
       "    <tr>\n",
       "      <th>PPMI-4067-20121215-000</th>\n",
       "      <td>Control</td>\n",
       "      <td>0</td>\n",
       "      <td>PPMI-4067</td>\n",
       "      <td>PPMI-4067-20121215-000</td>\n",
       "      <td>TASK1</td>\n",
       "    </tr>\n",
       "    <tr>\n",
       "      <th>PPMI-3789-20161115-001</th>\n",
       "      <td>PD</td>\n",
       "      <td>1</td>\n",
       "      <td>PPMI-3789</td>\n",
       "      <td>PPMI-3789-20161115-001</td>\n",
       "      <td>TASK1</td>\n",
       "    </tr>\n",
       "    <tr>\n",
       "      <th>PPMI-3055-20101215-000</th>\n",
       "      <td>Control</td>\n",
       "      <td>0</td>\n",
       "      <td>PPMI-3055</td>\n",
       "      <td>PPMI-3055-20101215-000</td>\n",
       "      <td>TASK1</td>\n",
       "    </tr>\n",
       "    <tr>\n",
       "      <th>PPMI-3064-20110515-000</th>\n",
       "      <td>Control</td>\n",
       "      <td>0</td>\n",
       "      <td>PPMI-3064</td>\n",
       "      <td>PPMI-3064-20110515-000</td>\n",
       "      <td>TASK1</td>\n",
       "    </tr>\n",
       "    <tr>\n",
       "      <th>PPMI-3789-20141115-000</th>\n",
       "      <td>PD</td>\n",
       "      <td>1</td>\n",
       "      <td>PPMI-3789</td>\n",
       "      <td>PPMI-3789-20141115-000</td>\n",
       "      <td>TASK1</td>\n",
       "    </tr>\n",
       "    <tr>\n",
       "      <th>...</th>\n",
       "      <td>...</td>\n",
       "      <td>...</td>\n",
       "      <td>...</td>\n",
       "      <td>...</td>\n",
       "      <td>...</td>\n",
       "    </tr>\n",
       "    <tr>\n",
       "      <th>PPMI-4038-20130415-000</th>\n",
       "      <td>PD</td>\n",
       "      <td>1</td>\n",
       "      <td>PPMI-4038</td>\n",
       "      <td>PPMI-4038-20130415-000</td>\n",
       "      <td>TASK1</td>\n",
       "    </tr>\n",
       "    <tr>\n",
       "      <th>PPMI-3028-20130315-000</th>\n",
       "      <td>PD</td>\n",
       "      <td>1</td>\n",
       "      <td>PPMI-3028</td>\n",
       "      <td>PPMI-3028-20130315-000</td>\n",
       "      <td>TASK1</td>\n",
       "    </tr>\n",
       "    <tr>\n",
       "      <th>PPMI-3609-20110515-000</th>\n",
       "      <td>PD</td>\n",
       "      <td>1</td>\n",
       "      <td>PPMI-3609</td>\n",
       "      <td>PPMI-3609-20110515-000</td>\n",
       "      <td>TASK1</td>\n",
       "    </tr>\n",
       "    <tr>\n",
       "      <th>PPMI-4051-20120515-000</th>\n",
       "      <td>PD</td>\n",
       "      <td>1</td>\n",
       "      <td>PPMI-4051</td>\n",
       "      <td>PPMI-4051-20120515-000</td>\n",
       "      <td>TASK1</td>\n",
       "    </tr>\n",
       "    <tr>\n",
       "      <th>PPMI-4122-20130215-000</th>\n",
       "      <td>PD</td>\n",
       "      <td>1</td>\n",
       "      <td>PPMI-4122</td>\n",
       "      <td>PPMI-4122-20130215-000</td>\n",
       "      <td>TASK1</td>\n",
       "    </tr>\n",
       "  </tbody>\n",
       "</table>\n",
       "<p>916 rows × 5 columns</p>\n",
       "</div>"
      ],
      "text/plain": [
       "                          PHENO DIAGNOSIS subject_id                     SID  \\\n",
       "ID                                                                             \n",
       "PPMI-4067-20121215-000  Control         0  PPMI-4067  PPMI-4067-20121215-000   \n",
       "PPMI-3789-20161115-001       PD         1  PPMI-3789  PPMI-3789-20161115-001   \n",
       "PPMI-3055-20101215-000  Control         0  PPMI-3055  PPMI-3055-20101215-000   \n",
       "PPMI-3064-20110515-000  Control         0  PPMI-3064  PPMI-3064-20110515-000   \n",
       "PPMI-3789-20141115-000       PD         1  PPMI-3789  PPMI-3789-20141115-000   \n",
       "...                         ...       ...        ...                     ...   \n",
       "PPMI-4038-20130415-000       PD         1  PPMI-4038  PPMI-4038-20130415-000   \n",
       "PPMI-3028-20130315-000       PD         1  PPMI-3028  PPMI-3028-20130315-000   \n",
       "PPMI-3609-20110515-000       PD         1  PPMI-3609  PPMI-3609-20110515-000   \n",
       "PPMI-4051-20120515-000       PD         1  PPMI-4051  PPMI-4051-20120515-000   \n",
       "PPMI-4122-20130215-000       PD         1  PPMI-4122  PPMI-4122-20130215-000   \n",
       "\n",
       "                         TASK  \n",
       "ID                             \n",
       "PPMI-4067-20121215-000  TASK1  \n",
       "PPMI-3789-20161115-001  TASK1  \n",
       "PPMI-3055-20101215-000  TASK1  \n",
       "PPMI-3064-20110515-000  TASK1  \n",
       "PPMI-3789-20141115-000  TASK1  \n",
       "...                       ...  \n",
       "PPMI-4038-20130415-000  TASK1  \n",
       "PPMI-3028-20130315-000  TASK1  \n",
       "PPMI-3609-20110515-000  TASK1  \n",
       "PPMI-4051-20120515-000  TASK1  \n",
       "PPMI-4122-20130215-000  TASK1  \n",
       "\n",
       "[916 rows x 5 columns]"
      ]
     },
     "execution_count": 32,
     "metadata": {},
     "output_type": "execute_result"
    }
   ],
   "source": [
    "obs"
   ]
  },
  {
   "cell_type": "code",
   "execution_count": null,
   "id": "d481e135-6fc1-4d74-b680-afb6d4bd5393",
   "metadata": {},
   "outputs": [],
   "source": []
  },
  {
   "cell_type": "code",
   "execution_count": null,
   "id": "3a5dc686-0c69-4146-b503-9e90e89d2d29",
   "metadata": {},
   "outputs": [],
   "source": []
  }
 ],
 "metadata": {
  "kernelspec": {
   "display_name": "Python 3 (ipykernel)",
   "language": "python",
   "name": "python3"
  },
  "language_info": {
   "codemirror_mode": {
    "name": "ipython",
    "version": 3
   },
   "file_extension": ".py",
   "mimetype": "text/x-python",
   "name": "python",
   "nbconvert_exporter": "python",
   "pygments_lexer": "ipython3",
   "version": "3.8.16"
  }
 },
 "nbformat": 4,
 "nbformat_minor": 5
}
