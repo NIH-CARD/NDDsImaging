{
 "cells": [
  {
   "cell_type": "code",
   "execution_count": 1,
   "id": "1e099ed7-2c0d-40e9-9372-9671f1aef5ea",
   "metadata": {},
   "outputs": [],
   "source": [
    "import warnings\n",
    "warnings.filterwarnings('ignore')\n",
    "import pandas as pd\n",
    "from pathlib import Path\n",
    "import pandas as pd\n",
    "# import researchpy as rp\n",
    "import statsmodels.api as sm\n",
    "import scipy.stats as stats\n",
    "import statsmodels.formula.api as smf\n",
    "import numpy as np\n",
    "import statsmodels.api as sm\n",
    "import os\n",
    "from collections import defaultdict\n",
    "import warnings\n",
    "warnings.filterwarnings('ignore')\n",
    "import seaborn as sns\n",
    "import matplotlib.pyplot as plt\n",
    "from scipy import stats\n",
    "\n",
    "from decimal import Decimal\n",
    "import statsmodels.formula.api\n",
    "from sklearn import metrics\n",
    "\n",
    "import anndata as ad\n",
    "import pandas as pd\n",
    "from sklearn.cluster import KMeans\n",
    "# import scanpy as sc\n",
    "import anndata as ad\n",
    "import numpy as np\n",
    "import plotly.express as px\n",
    "import pandas as pd\n",
    "import matplotlib.pyplot as plt\n",
    "import seaborn as sns\n",
    "import numpy as np\n",
    "import os\n",
    "import scipy.stats\n",
    "from scipy import stats\n",
    "import numpy as np\n",
    "from sklearn.decomposition import NMF, PCA\n",
    "from sklearn.decomposition import FastICA\n",
    "import seaborn as sns; sns.set_theme(color_codes=True)\n",
    "# import umap\n",
    "from sklearn.mixture import GaussianMixture\n",
    "from numpy.random import randn\n",
    "from numpy.random import seed\n",
    "from scipy.stats import pearsonr\n",
    "\n",
    "from tqdm import tqdm\n",
    "import statsmodels\n",
    "# from PyPDF2 import PdfFileMerger\n"
   ]
  },
  {
   "cell_type": "code",
   "execution_count": 2,
   "id": "56606bff-3c9b-4910-93ba-294f01b96102",
   "metadata": {},
   "outputs": [],
   "source": [
    "sns.set(context='notebook', style='ticks', font_scale=2, font='sans-serif', rc={\"lines.linewidth\": 1.2})\n",
    "sns.set_style(\"white\")\n",
    "\n",
    "import numpy as np\n",
    "import scipy.stats as st\n",
    "def ci_95(data):\n",
    "    x = st.t.interval(alpha=0.95, df=len(data)-1, loc=np.mean(data), scale=st.sem(data)) \n",
    "    return f\"{((x[0]+x[1]) / 2).round(2)} [{x[0].round(2)}-{x[1].round(2)}][{len(data)}]\""
   ]
  },
  {
   "cell_type": "code",
   "execution_count": 3,
   "id": "2082d2df-eb06-4323-b691-96b857281c0b",
   "metadata": {},
   "outputs": [],
   "source": [
    "phenotypes = pd.read_csv(\"/Users/projects_data/project_MLPhenotypesMRIGWAS/organized_data/23_03_30/Ensemble_MLphenotypes_cleaned.csv\")\n",
    "phenotypes = phenotypes.set_index('index')"
   ]
  },
  {
   "cell_type": "code",
   "execution_count": 4,
   "id": "6ced0183-22eb-4bf6-8ec7-99676e6dab70",
   "metadata": {},
   "outputs": [
    {
     "name": "stdout",
     "output_type": "stream",
     "text": [
      "/Users/dadua2/EssentialCodeBase/project_MLPhenotypesMRIGWAS/figures4paper/0.FINALFOLDER\n"
     ]
    }
   ],
   "source": [
    "!pwd"
   ]
  },
  {
   "cell_type": "code",
   "execution_count": 7,
   "id": "4e4c0bfc-31d0-4a0f-961c-4613f868023b",
   "metadata": {},
   "outputs": [],
   "source": [
    "from pathlib import Path\n",
    "import os\n",
    "import anndata as ad\n",
    "\n",
    "gen_dir = Path('/Users/projects_data/project_MLPhenotypesMRIGWAS/ml_generated_data/23_03_30')\n",
    "adata = ad.read(gen_dir / \"preprocessed_data\" / \"adata.h5ad\" )\n",
    "traw_data1 = pd.DataFrame(adata.X, index=adata.obs.index, columns=adata.var.index)\n",
    "traw_data2 = adata.obs\n",
    "raw_data = pd.merge(traw_data1, traw_data2, left_index=True, right_index=True)\n",
    "invicro_features_filtered = [] # sorted(list(adata.var.index))\n",
    "raw_data = raw_data.dropna(subset=invicro_features_filtered+['age',  'patid'])\n",
    "raw_data['study_diagnosis'] = raw_data['study'].astype(str) + '_' + raw_data['diagnosis'].astype(str)\n",
    "raw_data['subject_id'] = raw_data['patid'].values\n",
    "raw_data['sid'] = raw_data.index\n",
    "\n",
    "J = pd.read_csv(Path('/Users/EssentialCodeBase/data/clinical/raw_data/23_03_unknown') / \"ADNI_cov.tsv\", sep='\\t').copy()\n",
    "J['USERDATE'] = pd.to_datetime(J['USERDATE'])\n",
    "req_columns = ['PTDOBYY', 'PTCOGBEG', 'PTMCIBEG', 'PTADBEG', 'PTADDX']\n",
    "for col in req_columns:\n",
    "    temp = J[(J[col] > 2100) | (J[col] < 1900)].index\n",
    "    J.loc[temp, col] = np.nan\n",
    "    \n",
    "JX_adni = J.groupby('participant_id').agg('min')\n",
    "JX_adni['age_COGBEG'] = JX_adni['PTCOGBEG'] - JX_adni['PTDOBYY']\n",
    "JX_adni['age_MCIBEG'] = JX_adni['PTMCIBEG'] - JX_adni['PTDOBYY']\n",
    "JX_adni['age_ADBEG'] = JX_adni['PTADBEG'] - JX_adni['PTDOBYY']\n",
    "JX_adni['age_ADDX'] = JX_adni['PTADDX'] - JX_adni['PTDOBYY']\n",
    "JX_adni['age_MCI|COGBEG'] = JX_adni[['age_COGBEG', 'age_MCIBEG']].agg('min', axis=1)\n",
    "JX_adni = JX_adni[['age_COGBEG', 'age_MCIBEG', 'age_ADBEG', 'age_ADDX', 'age_MCI|COGBEG', 'age_at_baseline', 'PTDOBYY']].copy()\n",
    "\n",
    "JX_adni.index = pd.Series(JX_adni.index.map(lambda x: f'ADNI-{x}'), name='subject_id')\n",
    "JX_adni = JX_adni.reset_index()\n",
    "T = pd.read_csv(\"/Users/EssentialCodeBase/data/clinical/raw_data/23_03_unknown/Screening___Demographics.csv\")\n",
    "birth_year = dict(zip(T['PATNO'].values, T['BIRTHDT'].values))\n",
    "J = pd.read_csv(Path('/Users/EssentialCodeBase/data/clinical/raw_data/23_03_unknown') / \"processed_uniq_visit_month_mean_U3.csv\")\n",
    "J = J[['participant_id', 'age_at_baseline', 'age_at_onset', 'age_at_diagnosis']]\n",
    "JX_ppmi = J.groupby('participant_id').agg('min')\n",
    "JX_ppmi['PTDOBYY'] = JX_ppmi.index.map(birth_year)\n",
    "JX_ppmi.index = pd.Series(JX_ppmi.index.map(lambda x: f'PPMI-{x}'), name='subject_id')\n",
    "JX_ppmi = JX_ppmi.reset_index()\n",
    "JX = pd.concat([JX_adni, JX_ppmi], axis=0).copy()"
   ]
  },
  {
   "cell_type": "code",
   "execution_count": 8,
   "id": "c78053e8-76da-469f-b5b4-d0e4cde35cae",
   "metadata": {},
   "outputs": [],
   "source": [
    "adni_ppmi = pd.merge(raw_data[~(raw_data.index.str.contains('UKBB'))], JX, left_on='subject_id', right_on='subject_id', how='left')\n",
    "adni_ppmi = adni_ppmi.dropna(subset=['PTDOBYY']).set_index('sid')\n",
    "adni_ppmi['age_at_image_taken'] = pd.to_datetime(adni_ppmi.index.map(lambda x: x.split('-')[2])).map(lambda x: x.year).values - adni_ppmi['PTDOBYY']"
   ]
  },
  {
   "cell_type": "code",
   "execution_count": 9,
   "id": "c2a172c3-bbf6-4d50-a53a-01849d726549",
   "metadata": {},
   "outputs": [
    {
     "name": "stdout",
     "output_type": "stream",
     "text": [
      "335\n",
      "1149 731\n"
     ]
    }
   ],
   "source": [
    "dementia_subjects = raw_data[raw_data['study_diagnosis']=='ADNI_Dementia']['subject_id']\n",
    "mci_subjects = raw_data[raw_data['study_diagnosis']=='ADNI_MCI']['subject_id']\n",
    "intersection_subjects = list(set(dementia_subjects).intersection(set(mci_subjects)))\n",
    "print (len(intersection_subjects))\n",
    "print (len(set(mci_subjects)), len(set(dementia_subjects)))"
   ]
  },
  {
   "cell_type": "code",
   "execution_count": 10,
   "id": "20ca5e3e-e3e3-4c01-ba84-dbe465d4f032",
   "metadata": {},
   "outputs": [],
   "source": [
    "mci_and_dementia = adni_ppmi[adni_ppmi['subject_id'].isin(intersection_subjects)]\n",
    "mci_only_subjects = set(mci_subjects).difference(intersection_subjects)\n",
    "mci_only = adni_ppmi[adni_ppmi['subject_id'].isin(mci_only_subjects)]\n",
    "mci_and_dementia['time_from_diagnosis'] = mci_and_dementia['age_ADDX'] - mci_and_dementia['age_at_image_taken']"
   ]
  },
  {
   "cell_type": "code",
   "execution_count": 11,
   "id": "a4684c7b-94c3-41a2-9cb4-6ac3ad7aad78",
   "metadata": {},
   "outputs": [
    {
     "data": {
      "text/plain": [
       "(3411, 997)"
      ]
     },
     "execution_count": 11,
     "metadata": {},
     "output_type": "execute_result"
    }
   ],
   "source": [
    "req_columns = ['sex', 'presentage', 'IID', 'brainVolume', 'ens_ad_severity_scores', 'ens_pd_severity_scores', 'ens_logit_ad_severity_scores', 'ens_logit_pd_severity_scores']\n",
    "L_mci_only = pd.merge(phenotypes[req_columns].copy(), mci_only, left_index=True, right_index=True)\n",
    "L_mci_only.shape"
   ]
  },
  {
   "cell_type": "code",
   "execution_count": 12,
   "id": "839b8b69-e86c-4ece-9d2e-2eb4b58835ec",
   "metadata": {},
   "outputs": [],
   "source": [
    "# phenotypes"
   ]
  },
  {
   "cell_type": "code",
   "execution_count": 13,
   "id": "52c6ba1b-8924-4038-bd68-5dcb8d89c46c",
   "metadata": {},
   "outputs": [
    {
     "data": {
      "text/plain": [
       "(1752, 998)"
      ]
     },
     "execution_count": 13,
     "metadata": {},
     "output_type": "execute_result"
    }
   ],
   "source": [
    "req_columns = ['sex', 'presentage', 'IID', 'brainVolume', 'ens_ad_severity_scores', 'ens_pd_severity_scores', 'ens_logit_ad_severity_scores', 'ens_logit_pd_severity_scores']\n",
    "L_mci_and_dementia = pd.merge(phenotypes[req_columns].copy(), mci_and_dementia, left_index=True, right_index=True)\n",
    "L_mci_and_dementia.shape"
   ]
  },
  {
   "cell_type": "code",
   "execution_count": 14,
   "id": "e20e061e-296e-40b6-889d-0ffd97fcf464",
   "metadata": {},
   "outputs": [],
   "source": [
    "subject_times = L_mci_only.groupby('IID').agg('max')['age_at_image_taken'] - L_mci_only.groupby('IID').agg('min')['age_at_image_taken']\n",
    "subject_times = dict(zip(list(subject_times.index), list(subject_times.values)))"
   ]
  },
  {
   "cell_type": "code",
   "execution_count": 15,
   "id": "a872d7d9-a051-4aad-924d-d7e2a48d737b",
   "metadata": {},
   "outputs": [],
   "source": [
    "L_mci_only['time_from_diagnosis'] = L_mci_only['IID'].map(subject_times)"
   ]
  },
  {
   "cell_type": "code",
   "execution_count": 16,
   "id": "8bfba81f-71c1-4967-aefa-b2b101351a50",
   "metadata": {},
   "outputs": [
    {
     "data": {
      "text/plain": [
       "0"
      ]
     },
     "execution_count": 16,
     "metadata": {},
     "output_type": "execute_result"
    }
   ],
   "source": [
    "L_mci_only['time_from_diagnosis'].isna().sum()"
   ]
  },
  {
   "cell_type": "code",
   "execution_count": 17,
   "id": "8a41ee91-020d-4904-bc04-c97fd73a9064",
   "metadata": {},
   "outputs": [],
   "source": [
    "L = pd.concat([L_mci_only, L_mci_and_dementia], axis=0)\n",
    "required_columns = ['time_from_diagnosis', 'subject_id', 'age_at_image_taken', 'sex', 'brainVolume', 'ens_ad_severity_scores', 'ens_pd_severity_scores', 'ens_logit_ad_severity_scores', 'ens_logit_pd_severity_scores']\n",
    "L[required_columns].sort_values(by=['subject_id', 'age_at_image_taken']).drop_duplicates(subset=['subject_id'], keep='first')\n",
    "S = L.sort_values(by=['subject_id', 'age_at_image_taken']).drop_duplicates(subset=['subject_id'], keep='first')\n",
    "S['event_col'] = S['subject_id'].map(lambda x: 0 if x in mci_only_subjects else 1)\n"
   ]
  },
  {
   "cell_type": "code",
   "execution_count": 18,
   "id": "c59c2e0c-e9eb-433a-8a6a-5cacd4917683",
   "metadata": {},
   "outputs": [],
   "source": [
    "sel_invicro_features_filtered = list(adata.var.index)\n",
    "sel_invicro_features_filtered = ['ens_logit_ad_severity_scores', 'ens_logit_pd_severity_scores']"
   ]
  },
  {
   "cell_type": "code",
   "execution_count": 19,
   "id": "88be72da-7a06-40cd-a3fd-8ef5f38aabfd",
   "metadata": {},
   "outputs": [
    {
     "name": "stderr",
     "output_type": "stream",
     "text": [
      "  0%|                                                                                                                                                                                                                         | 0/2 [00:00<?, ?it/s]\n"
     ]
    }
   ],
   "source": [
    "from lifelines import CoxPHFitter\n",
    "summary_list = []\n",
    "for col in tqdm(sel_invicro_features_filtered):\n",
    "    formula = f\"age_at_image_taken + sex + brainVolume + {col}\"\n",
    "    T = S[~(S['time_from_diagnosis'] < 0)].copy()\n",
    "    # T['event_col'] = T['subject_id'].map(lambda x: 1 if x>=0 else 0)\n",
    "    T = T.dropna(subset=formula.split(' + ') + ['time_from_diagnosis', 'event_col'])\n",
    "    # T[col] = (T[col] - T[col].mean()) / T[col].std()\n",
    "    T = T[formula.split(' + ') + ['time_from_diagnosis', 'event_col']]\n",
    "    # T['time_from_diagnosis'] = T['time_from_diagnosis'].fillna(10)\n",
    "    cph = CoxPHFitter()\n",
    "    cph.fit(T, duration_col='time_from_diagnosis', event_col='event_col', formula=formula)\n",
    "    # cph.print_summary()\n",
    "    summary_list.append(cph.summary.loc[[col]])\n",
    "    break"
   ]
  },
  {
   "cell_type": "code",
   "execution_count": 20,
   "id": "b5df5d1c-5a38-4482-afb4-6a263754ab0f",
   "metadata": {},
   "outputs": [
    {
     "data": {
      "text/html": [
       "<div>\n",
       "<style scoped>\n",
       "    .dataframe tbody tr th:only-of-type {\n",
       "        vertical-align: middle;\n",
       "    }\n",
       "\n",
       "    .dataframe tbody tr th {\n",
       "        vertical-align: top;\n",
       "    }\n",
       "\n",
       "    .dataframe thead th {\n",
       "        text-align: right;\n",
       "    }\n",
       "</style>\n",
       "<table border=\"1\" class=\"dataframe\">\n",
       "  <tbody>\n",
       "    <tr>\n",
       "      <th>model</th>\n",
       "      <td>lifelines.CoxPHFitter</td>\n",
       "    </tr>\n",
       "    <tr>\n",
       "      <th>duration col</th>\n",
       "      <td>'time_from_diagnosis'</td>\n",
       "    </tr>\n",
       "    <tr>\n",
       "      <th>event col</th>\n",
       "      <td>'event_col'</td>\n",
       "    </tr>\n",
       "    <tr>\n",
       "      <th>baseline estimation</th>\n",
       "      <td>breslow</td>\n",
       "    </tr>\n",
       "    <tr>\n",
       "      <th>number of observations</th>\n",
       "      <td>749</td>\n",
       "    </tr>\n",
       "    <tr>\n",
       "      <th>number of events observed</th>\n",
       "      <td>41</td>\n",
       "    </tr>\n",
       "    <tr>\n",
       "      <th>partial log-likelihood</th>\n",
       "      <td>-213.42</td>\n",
       "    </tr>\n",
       "    <tr>\n",
       "      <th>time fit was run</th>\n",
       "      <td>2023-05-10 17:14:18 UTC</td>\n",
       "    </tr>\n",
       "  </tbody>\n",
       "</table>\n",
       "</div><table border=\"1\" class=\"dataframe\">\n",
       "  <thead>\n",
       "    <tr style=\"text-align: right;\">\n",
       "      <th style=\"min-width: 12px;\"></th>\n",
       "      <th style=\"min-width: 12px;\">coef</th>\n",
       "      <th style=\"min-width: 12px;\">exp(coef)</th>\n",
       "      <th style=\"min-width: 12px;\">se(coef)</th>\n",
       "      <th style=\"min-width: 12px;\">coef lower 95%</th>\n",
       "      <th style=\"min-width: 12px;\">coef upper 95%</th>\n",
       "      <th style=\"min-width: 12px;\">exp(coef) lower 95%</th>\n",
       "      <th style=\"min-width: 12px;\">exp(coef) upper 95%</th>\n",
       "      <th style=\"min-width: 12px;\">cmp to</th>\n",
       "      <th style=\"min-width: 12px;\">z</th>\n",
       "      <th style=\"min-width: 12px;\">p</th>\n",
       "      <th style=\"min-width: 12px;\">-log2(p)</th>\n",
       "    </tr>\n",
       "  </thead>\n",
       "  <tbody>\n",
       "    <tr>\n",
       "      <th>age_at_image_taken</th>\n",
       "      <td>-0.04</td>\n",
       "      <td>0.96</td>\n",
       "      <td>0.02</td>\n",
       "      <td>-0.09</td>\n",
       "      <td>0.00</td>\n",
       "      <td>0.92</td>\n",
       "      <td>1.00</td>\n",
       "      <td>0.00</td>\n",
       "      <td>-1.81</td>\n",
       "      <td>0.07</td>\n",
       "      <td>3.83</td>\n",
       "    </tr>\n",
       "    <tr>\n",
       "      <th>brainVolume</th>\n",
       "      <td>-1.13</td>\n",
       "      <td>0.32</td>\n",
       "      <td>3.02</td>\n",
       "      <td>-7.04</td>\n",
       "      <td>4.78</td>\n",
       "      <td>0.00</td>\n",
       "      <td>118.80</td>\n",
       "      <td>0.00</td>\n",
       "      <td>-0.38</td>\n",
       "      <td>0.71</td>\n",
       "      <td>0.50</td>\n",
       "    </tr>\n",
       "    <tr>\n",
       "      <th>ens_logit_ad_severity_scores</th>\n",
       "      <td>0.41</td>\n",
       "      <td>1.50</td>\n",
       "      <td>0.05</td>\n",
       "      <td>0.31</td>\n",
       "      <td>0.50</td>\n",
       "      <td>1.37</td>\n",
       "      <td>1.65</td>\n",
       "      <td>0.00</td>\n",
       "      <td>8.37</td>\n",
       "      <td>&lt;0.005</td>\n",
       "      <td>53.95</td>\n",
       "    </tr>\n",
       "    <tr>\n",
       "      <th>sex</th>\n",
       "      <td>0.06</td>\n",
       "      <td>1.06</td>\n",
       "      <td>0.40</td>\n",
       "      <td>-0.73</td>\n",
       "      <td>0.84</td>\n",
       "      <td>0.48</td>\n",
       "      <td>2.33</td>\n",
       "      <td>0.00</td>\n",
       "      <td>0.15</td>\n",
       "      <td>0.88</td>\n",
       "      <td>0.18</td>\n",
       "    </tr>\n",
       "  </tbody>\n",
       "</table><br><div>\n",
       "<style scoped>\n",
       "    .dataframe tbody tr th:only-of-type {\n",
       "        vertical-align: middle;\n",
       "    }\n",
       "\n",
       "    .dataframe tbody tr th {\n",
       "        vertical-align: top;\n",
       "    }\n",
       "\n",
       "    .dataframe thead th {\n",
       "        text-align: right;\n",
       "    }\n",
       "</style>\n",
       "<table border=\"1\" class=\"dataframe\">\n",
       "  <tbody>\n",
       "    <tr>\n",
       "      <th>Concordance</th>\n",
       "      <td>0.86</td>\n",
       "    </tr>\n",
       "    <tr>\n",
       "      <th>Partial AIC</th>\n",
       "      <td>434.84</td>\n",
       "    </tr>\n",
       "    <tr>\n",
       "      <th>log-likelihood ratio test</th>\n",
       "      <td>67.54 on 4 df</td>\n",
       "    </tr>\n",
       "    <tr>\n",
       "      <th>-log2(p) of ll-ratio test</th>\n",
       "      <td>43.60</td>\n",
       "    </tr>\n",
       "  </tbody>\n",
       "</table>\n",
       "</div>"
      ],
      "text/latex": [
       "\\begin{tabular}{lrrrrrrrrrrr}\n",
       " & coef & exp(coef) & se(coef) & coef lower 95% & coef upper 95% & exp(coef) lower 95% & exp(coef) upper 95% & cmp to & z & p & -log2(p) \\\\\n",
       "covariate &  &  &  &  &  &  &  &  &  &  &  \\\\\n",
       "age_at_image_taken & -0.04 & 0.96 & 0.02 & -0.09 & 0.00 & 0.92 & 1.00 & 0.00 & -1.81 & 0.07 & 3.83 \\\\\n",
       "brainVolume & -1.13 & 0.32 & 3.02 & -7.04 & 4.78 & 0.00 & 118.80 & 0.00 & -0.38 & 0.71 & 0.50 \\\\\n",
       "ens_logit_ad_severity_scores & 0.41 & 1.50 & 0.05 & 0.31 & 0.50 & 1.37 & 1.65 & 0.00 & 8.37 & 0.00 & 53.95 \\\\\n",
       "sex & 0.06 & 1.06 & 0.40 & -0.73 & 0.84 & 0.48 & 2.33 & 0.00 & 0.15 & 0.88 & 0.18 \\\\\n",
       "\\end{tabular}\n"
      ],
      "text/plain": [
       "<lifelines.CoxPHFitter: fitted with 749 total observations, 708 right-censored observations>\n",
       "             duration col = 'time_from_diagnosis'\n",
       "                event col = 'event_col'\n",
       "      baseline estimation = breslow\n",
       "   number of observations = 749\n",
       "number of events observed = 41\n",
       "   partial log-likelihood = -213.42\n",
       "         time fit was run = 2023-05-10 17:14:18 UTC\n",
       "\n",
       "---\n",
       "                               coef  exp(coef)   se(coef)   coef lower 95%   coef upper 95%  exp(coef) lower 95%  exp(coef) upper 95%\n",
       "covariate                                                                                                                            \n",
       "age_at_image_taken            -0.04       0.96       0.02            -0.09             0.00                 0.92                 1.00\n",
       "brainVolume                   -1.13       0.32       3.02            -7.04             4.78                 0.00               118.80\n",
       "ens_logit_ad_severity_scores   0.41       1.50       0.05             0.31             0.50                 1.37                 1.65\n",
       "sex                            0.06       1.06       0.40            -0.73             0.84                 0.48                 2.33\n",
       "\n",
       "                               cmp to     z      p   -log2(p)\n",
       "covariate                                                    \n",
       "age_at_image_taken               0.00 -1.81   0.07       3.83\n",
       "brainVolume                      0.00 -0.38   0.71       0.50\n",
       "ens_logit_ad_severity_scores     0.00  8.37 <0.005      53.95\n",
       "sex                              0.00  0.15   0.88       0.18\n",
       "---\n",
       "Concordance = 0.86\n",
       "Partial AIC = 434.84\n",
       "log-likelihood ratio test = 67.54 on 4 df\n",
       "-log2(p) of ll-ratio test = 43.60"
      ]
     },
     "metadata": {},
     "output_type": "display_data"
    }
   ],
   "source": [
    "cph.print_summary()"
   ]
  },
  {
   "cell_type": "code",
   "execution_count": 21,
   "id": "e4e003a5-d487-4e71-86c8-3c515802edc4",
   "metadata": {},
   "outputs": [
    {
     "data": {
      "text/html": [
       "<div>\n",
       "<style scoped>\n",
       "    .dataframe tbody tr th:only-of-type {\n",
       "        vertical-align: middle;\n",
       "    }\n",
       "\n",
       "    .dataframe tbody tr th {\n",
       "        vertical-align: top;\n",
       "    }\n",
       "\n",
       "    .dataframe thead th {\n",
       "        text-align: right;\n",
       "    }\n",
       "</style>\n",
       "<table border=\"1\" class=\"dataframe\">\n",
       "  <thead>\n",
       "    <tr style=\"text-align: right;\">\n",
       "      <th></th>\n",
       "      <th>coef</th>\n",
       "      <th>exp(coef)</th>\n",
       "      <th>se(coef)</th>\n",
       "      <th>coef lower 95%</th>\n",
       "      <th>coef upper 95%</th>\n",
       "      <th>exp(coef) lower 95%</th>\n",
       "      <th>exp(coef) upper 95%</th>\n",
       "      <th>cmp to</th>\n",
       "      <th>z</th>\n",
       "      <th>p</th>\n",
       "      <th>-log2(p)</th>\n",
       "    </tr>\n",
       "    <tr>\n",
       "      <th>covariate</th>\n",
       "      <th></th>\n",
       "      <th></th>\n",
       "      <th></th>\n",
       "      <th></th>\n",
       "      <th></th>\n",
       "      <th></th>\n",
       "      <th></th>\n",
       "      <th></th>\n",
       "      <th></th>\n",
       "      <th></th>\n",
       "      <th></th>\n",
       "    </tr>\n",
       "  </thead>\n",
       "  <tbody>\n",
       "    <tr>\n",
       "      <th>ens_logit_ad_severity_scores</th>\n",
       "      <td>0.407011</td>\n",
       "      <td>1.50232</td>\n",
       "      <td>0.048627</td>\n",
       "      <td>0.311704</td>\n",
       "      <td>0.502317</td>\n",
       "      <td>1.36575</td>\n",
       "      <td>1.652546</td>\n",
       "      <td>0.0</td>\n",
       "      <td>8.370086</td>\n",
       "      <td>5.757600e-17</td>\n",
       "      <td>53.94731</td>\n",
       "    </tr>\n",
       "  </tbody>\n",
       "</table>\n",
       "</div>"
      ],
      "text/plain": [
       "                                  coef  exp(coef)  se(coef)  coef lower 95%  \\\n",
       "covariate                                                                     \n",
       "ens_logit_ad_severity_scores  0.407011    1.50232  0.048627        0.311704   \n",
       "\n",
       "                              coef upper 95%  exp(coef) lower 95%  \\\n",
       "covariate                                                           \n",
       "ens_logit_ad_severity_scores        0.502317              1.36575   \n",
       "\n",
       "                              exp(coef) upper 95%  cmp to         z  \\\n",
       "covariate                                                             \n",
       "ens_logit_ad_severity_scores             1.652546     0.0  8.370086   \n",
       "\n",
       "                                         p  -log2(p)  \n",
       "covariate                                             \n",
       "ens_logit_ad_severity_scores  5.757600e-17  53.94731  "
      ]
     },
     "execution_count": 21,
     "metadata": {},
     "output_type": "execute_result"
    }
   ],
   "source": [
    "pd.concat(summary_list).sort_values(by='p').head(n=60)"
   ]
  },
  {
   "cell_type": "code",
   "execution_count": 22,
   "id": "4b92106a-99a5-4617-b477-3bc339de939c",
   "metadata": {},
   "outputs": [],
   "source": [
    "T.to_csv(\"data/MCI_survival.csv\", index=False)"
   ]
  },
  {
   "cell_type": "code",
   "execution_count": 23,
   "id": "9d0d7670-1f8c-43d4-a60b-d3422d782802",
   "metadata": {},
   "outputs": [
    {
     "data": {
      "text/plain": [
       "'age_at_image_taken + sex + brainVolume + ens_logit_ad_severity_scores'"
      ]
     },
     "execution_count": 23,
     "metadata": {},
     "output_type": "execute_result"
    }
   ],
   "source": [
    "formula"
   ]
  },
  {
   "cell_type": "code",
   "execution_count": null,
   "id": "d5689c22-9eef-48ef-8768-340bf73b5ee1",
   "metadata": {},
   "outputs": [],
   "source": []
  }
 ],
 "metadata": {
  "kernelspec": {
   "display_name": "Python 3 (ipykernel)",
   "language": "python",
   "name": "python3"
  },
  "language_info": {
   "codemirror_mode": {
    "name": "ipython",
    "version": 3
   },
   "file_extension": ".py",
   "mimetype": "text/x-python",
   "name": "python",
   "nbconvert_exporter": "python",
   "pygments_lexer": "ipython3",
   "version": "3.8.16"
  }
 },
 "nbformat": 4,
 "nbformat_minor": 5
}
