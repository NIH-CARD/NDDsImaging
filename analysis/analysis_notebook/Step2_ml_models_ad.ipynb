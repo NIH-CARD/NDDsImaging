{
 "cells": [
  {
   "cell_type": "code",
   "execution_count": 3,
   "id": "a6fa1809-6a6f-4658-a95c-8107914311a6",
   "metadata": {},
   "outputs": [],
   "source": [
    "import pickle\n",
    "import pandas as pd\n",
    "import copy\n",
    "import os\n",
    "import numpy as np\n",
    "# import torch\n",
    "from omegaconf import OmegaConf\n",
    "import ast\n",
    "import sys\n",
    "# from definitions import RESULTS_DIR, ROOT_DIR_INSIDE\n",
    "import pickle\n",
    "import pandas as pd\n",
    "import copy\n",
    "import os\n",
    "import numpy as np\n",
    "import ast\n",
    "# from xgboost import XGBClassifier\n",
    "from sklearn import metrics\n",
    "# root_dir = ROOT_DIR_INSIDE\n",
    "# config = OmegaConf.load(f\"{sys.argv[1]}/config.yaml\")\n",
    "input_data_dir = '/Users/projects_data/project_MLPhenotypesMRIGWAS/ml_generated_data/23_03_30/predictiveModel/ad_imaging.h5ad'\n",
    "fname = os.path.basename(input_data_dir).split('.')[0]\n",
    "# data_dir = f\"{RESULTS_DIR}/prediction_results/example\"\n",
    "all_predictions = {}\n",
    "\n",
    "def get_obs_data_anndata(fold_name):\n",
    "    import anndata as ad\n",
    "    adata = ad.read(\"/Users/projects_data/project_MLPhenotypesMRIGWAS/ml_generated_data/23_03_30/predictiveModel/ad_imaging.h5ad\")\n",
    "    split_column = \"subject_id-DIAGNOSIS-StratifiedGroupKFold_GroupShuffleSplit_42_42\"\n",
    "    train_data = adata[adata.obsm['train_val_test_split'][~(adata.obsm['train_val_test_split'][split_column] .isin ([fold_name]))].index]\n",
    "    val_data = adata[adata.obsm['train_val_test_split'][adata.obsm['train_val_test_split'][split_column] .isin ([fold_name])].index]\n",
    "    X_train = np.array(train_data.X, dtype=np.float32)\n",
    "    X_val = np.array(val_data.X, dtype=np.float32)\n",
    "    y_train = np.array(train_data.obs['DIAGNOSIS'], dtype=np.float32)\n",
    "    y_val = np.array(val_data.obs['DIAGNOSIS'], dtype=np.float32)\n",
    "    return val_data.obs\n",
    "\n",
    "obs = pd.concat([get_obs_data_anndata('fold1'), get_obs_data_anndata('fold2'), get_obs_data_anndata('fold3')])"
   ]
  },
  {
   "cell_type": "code",
   "execution_count": 18,
   "id": "a881e2c2-cbb6-4c17-ab63-daa59d5f2df8",
   "metadata": {},
   "outputs": [
    {
     "name": "stdout",
     "output_type": "stream",
     "text": [
      "{'type': 'optuna', 'num_trials': 20, 'multi_class': 'multinomial', 'random_state': 42, 'FeatureSelection': 'IDENTITY', 'solver': 'saga', 'max_iter': 100, 'C': 275.25, 'penalty': 'l1'}\n",
      "{'type': 'optuna', 'num_trials': 100, 'hidden_layer_sizes': [64, 32], 'max_epochs': 500, 'FeatureSelection': 'LASSO', 'optimizer': 'adamw', 'early_stopping': 1, 'random_state': 42, 'layers': 4, 'layer_size': [1, 512], 'learning_rate': [1e-05, 0.01], 'dropout': [0.0, 0.5], 'weight_decay': [1e-06, 0.001], 'layer_size0': 135, 'layer_size1': 275, 'layer_size2': 141, 'layer_size3': 11, 'module__dropout': 0.17, 'lr': 0.0, 'optimizer__weight_decay': 0.0, 'lasso_c': 0.06}\n",
      "{'type': 'optuna', 'num_trials': 200, 'objective': 'multi:softprob', 'seed': 42, 'nthread': 4, 'silent': 1, 'n_estimators': 15, 'booster': 'gbtree', 'learning_rate': 0.09, 'reg_lambda': 1.89, 'gamma': 0.0, 'reg_alpha': 0.02, 'max_depth': 4, 'min_child_weight': 0.01, 'subsample': 0.4, 'colsample_bytree': 0.17, 'tree_method': 'gpu_hist', 'predictor': 'cpu_predictor', 'max_bin': 80, 'FeatureSelection': 'LASSO', 'colsample_bylevel': 0.88, 'early_stopping_rounds': 75, 'max_leaves': 80, 'scale_pos_weight': 2.72, 'lasso_c': 8.07}\n"
     ]
    }
   ],
   "source": [
    "csv_file_location = \"/Users/EssentialCodeBase/project_MLPhenotypesMRIGWAS/block1_BaselineClassification/training/23_03_30/results_data/prediction_results/example/apr5/IMAGING_ADPREDICTION_CLASSIFIER/basic_numerical$imaging__addiagnosisprediction_train100$feature$sample\"\n",
    "for model_name in ['LogisticRegression', 'skorchMLPClassifier', 'XGBClassifier']:\n",
    "    leaderboard_df = pd.read_csv(f\"{csv_file_location}/csv_files/leaderboard_df.csv\")\n",
    "    agg_leaderboard_df = pd.read_csv(f\"{csv_file_location}/csv_files/agg_leaderboard_df.csv\")\n",
    "    leaderboard_df = leaderboard_df[leaderboard_df['model_name'].isin([model_name])]\n",
    "    agg_leaderboard_df = agg_leaderboard_df[agg_leaderboard_df['model_name'].isin([model_name])]\n",
    "    config_mapping = dict(zip(leaderboard_df['config_index'], leaderboard_df['config'].map(lambda x: ast.literal_eval(x))))\n",
    "    config_index1 = agg_leaderboard_df.iloc[0]['config_index']\n",
    "    main_config_grid = OmegaConf.load(f\"/Users/EssentialCodeBase/BaselineClassification/PredictiveModeling/src_basic/optuna_hyperparameters_with_index.json\")\n",
    "    classifier_params = main_config_grid['IMC'][model_name]['hp0']\n",
    "    classifier_params.update(config_mapping[config_index1])\n",
    "    dfg = classifier_params\n",
    "    for key, val in dfg.items():\n",
    "        try:\n",
    "            dfg[key] = round(val, 2)\n",
    "        except:\n",
    "            pass\n",
    "    print (dfg)"
   ]
  },
  {
   "cell_type": "code",
   "execution_count": 2,
   "id": "9e1ef5bc-0c61-4196-82d6-56f4aa3c808d",
   "metadata": {},
   "outputs": [],
   "source": [
    "from pathlib import Path\n",
    "RESULTS_DIR = Path(\"/Users/EssentialCodeBase/project_MLPhenotypesMRIGWAS/block1_BaselineClassification/training/23_03_30/results_data\")"
   ]
  },
  {
   "cell_type": "code",
   "execution_count": 3,
   "id": "1229a068-058d-4cae-8821-07cdd1d81c5e",
   "metadata": {},
   "outputs": [],
   "source": [
    "for model_name in [\"LogisticRegression\", \"skorchMLPClassifier\", \"XGBClassifier\"]:\n",
    "    with open(RESULTS_DIR / f'predictiveAnalysis/execute_ensemble_models/ensemble_data/{fname}_{model_name}_best_model_prediction.pkl', 'rb') as t:\n",
    "        all_predictions.update({f\"{fname}#{i}\":j for i,j in pickle.load(t).items()})"
   ]
  },
  {
   "cell_type": "code",
   "execution_count": 4,
   "id": "7e117b9f-a212-49b7-a423-34b50e27a3d5",
   "metadata": {},
   "outputs": [],
   "source": [
    "model_list = list(all_predictions)\n",
    "model_list\n",
    "\n",
    "from collections import defaultdict\n",
    "model_list = list(all_predictions)\n",
    "ll_loss_df = defaultdict(list)\n",
    "full_dataframe_list = []\n",
    "for e, model_name in enumerate(model_list):\n",
    "    data_list = []\n",
    "    for e, fold_name in enumerate(sorted(list(all_predictions[model_name]))):\n",
    "        logloss_value = metrics.log_loss(all_predictions[model_name][fold_name]['y_val'], all_predictions[model_name][fold_name]['y_pred_val'])\n",
    "        auc_value = metrics.roc_auc_score(all_predictions[model_name][fold_name]['y_val'], all_predictions[model_name][fold_name]['y_pred_val'][:, 1] , multi_class='ovo' )\n",
    "        ll_loss_df['fold'].append(fold_name)\n",
    "        ll_loss_df['model_name'].append(model_name)\n",
    "        ll_loss_df['ll_loss'].append(logloss_value)\n",
    "        ll_loss_df['micro_auc'].append(auc_value)\n",
    "        ll_loss_df['accuracy'].append(  metrics.accuracy_score(all_predictions[model_name][fold_name]['y_val'], np.argmax(all_predictions[model_name][fold_name]['y_pred_val'], axis=1 ) )   )\n",
    "        macro_auc = np.mean([metrics.roc_auc_score(all_predictions[model_name][fold_name]['y_val'] == i, all_predictions[model_name][fold_name]['y_pred_val'][:,i]) for i in range(2)])\n",
    "        ll_loss_df['macro_auc'].append(macro_auc)\n",
    "        temp1 = pd.DataFrame(all_predictions[model_name][fold_name]['y_val'], columns=[f'y_true'])\n",
    "        temp1['fold'] = fold_name\n",
    "        temp2 = pd.DataFrame(all_predictions[model_name][fold_name]['y_pred_val'], columns=[f'{model_name}-y_pred{i}' for i in range(all_predictions[model_name][fold_name]['y_pred_val'].shape[1])])\n",
    "        data_list.append(pd.concat([temp1, temp2], axis=1).set_index(['fold', 'y_true']))\n",
    "    full_dataframe_list.append(pd.concat(data_list, axis=0))\n",
    "    "
   ]
  },
  {
   "cell_type": "code",
   "execution_count": 5,
   "id": "eedeaa7e-40d2-4e3e-9c76-090fd87528b4",
   "metadata": {},
   "outputs": [
    {
     "name": "stdout",
     "output_type": "stream",
     "text": [
      "----------------------------------------------------------------------------------------------------\n",
      "                                      ll_loss      micro_auc       accuracy  \\\n",
      "model_name                                                                    \n",
      "ad_imaging#LogisticRegression    0.329+/-0.02  0.9365+/-0.01  0.8882+/-0.01   \n",
      "ad_imaging#XGBClassifier         0.3931+/-0.0  0.9261+/-0.01  0.8659+/-0.01   \n",
      "ad_imaging#skorchMLPClassifier  0.2918+/-0.01  0.9371+/-0.01  0.8858+/-0.01   \n",
      "\n",
      "                                    macro_auc  \n",
      "model_name                                     \n",
      "ad_imaging#LogisticRegression   0.9365+/-0.01  \n",
      "ad_imaging#XGBClassifier        0.9261+/-0.01  \n",
      "ad_imaging#skorchMLPClassifier  0.9371+/-0.01  \n"
     ]
    },
    {
     "name": "stderr",
     "output_type": "stream",
     "text": [
      "/var/folders/y5/tr1yp82s2ns2_4g_6flxk45jrqb07t/T/ipykernel_77605/1576132248.py:6: FutureWarning: ['fold'] did not aggregate successfully. If any error is raised this will raise in a future version of pandas. Drop these columns/ops to avoid this warning.\n",
      "  print (pd.DataFrame(ll_loss_df).groupby('model_name').agg(f_mean))\n"
     ]
    }
   ],
   "source": [
    "def f_mean(x):\n",
    "    return str(round(np.mean(list(x)), 4)) + '+/-' + str(np.std(list(x)).round(2))\n",
    "    \n",
    "full_dataframe = pd.concat(full_dataframe_list, axis=1)\n",
    "print ('-'*100)\n",
    "print (pd.DataFrame(ll_loss_df).groupby('model_name').agg(f_mean))\n",
    "\n",
    "\n",
    "L = full_dataframe.copy()"
   ]
  },
  {
   "cell_type": "code",
   "execution_count": 6,
   "id": "7ceae53c-ef66-43ef-a324-68a43bd59d02",
   "metadata": {},
   "outputs": [],
   "source": [
    "\n",
    "L.index = obs.index\n",
    "# L.reset_index().to_csv(\"embeddings/all_concat_full_dataframe.csv\", index=False)\n",
    "\n",
    "def get_training_data_numpy(fold_name):\n",
    "    full_dataframe_folds = full_dataframe.reset_index()\n",
    "    full_dataframe_val = full_dataframe_folds[full_dataframe_folds['fold']==fold_name]\n",
    "    full_dataframe_train = full_dataframe_folds[~(full_dataframe_folds['fold']==fold_name)]\n",
    "    X_train = full_dataframe_train.iloc[:, 2:].values.astype(np.float32)\n",
    "    X_val = full_dataframe_val.iloc[:, 2:].values.astype(np.float32)\n",
    "    y_train = full_dataframe_train.iloc[:, 1].values.astype(np.int64)\n",
    "    y_val = full_dataframe_val.iloc[:, 1].values.astype(np.int64)\n",
    "    return X_train, X_val, y_train, y_val\n"
   ]
  },
  {
   "cell_type": "code",
   "execution_count": 7,
   "id": "afd4596d-7844-4e49-9db1-70bd3dc44362",
   "metadata": {},
   "outputs": [],
   "source": [
    "\n",
    "from omegaconf import OmegaConf\n",
    "from sklearn.linear_model import LogisticRegression\n",
    "# from lightgbm import LGBMClassifier\n",
    "# from PredictiveModeling.src_basic.skorch_models import skorchMLPClassifier\n",
    "\n",
    "# optuna_config_grid = OmegaConf.load(f\"{ROOT_DIR_INSIDE}/PredictiveModeling/src_basic/{config['tuning_type']}_hyperparameters_with_index.json\")\n",
    "\n",
    "L = full_dataframe.copy()\n",
    "L.index = obs.index"
   ]
  },
  {
   "cell_type": "code",
   "execution_count": 8,
   "id": "74428389-18fd-4ec6-8253-03ee07904dce",
   "metadata": {},
   "outputs": [],
   "source": [
    "import pickle\n",
    "with open(RESULTS_DIR / f'predictiveAnalysis/execute_ensemble_models/ensemble_data/{fname}_ensembleWeights_best_model_prediction.pkl', 'rb') as t:\n",
    "    ensemble_weights = pickle.load(t)"
   ]
  },
  {
   "cell_type": "code",
   "execution_count": 9,
   "id": "8f65ca4c-7166-4e0b-a3d0-6b2ae62a3a70",
   "metadata": {},
   "outputs": [
    {
     "data": {
      "text/plain": [
       "{'ad_imaging#LogisticRegression': 0.4403008303258688,\n",
       " 'ad_imaging#skorchMLPClassifier': 0.5000166735791762,\n",
       " 'ad_imaging#XGBClassifier': 0.05968249609495491}"
      ]
     },
     "execution_count": 9,
     "metadata": {},
     "output_type": "execute_result"
    }
   ],
   "source": [
    "ensemble_weights"
   ]
  },
  {
   "cell_type": "code",
   "execution_count": 10,
   "id": "1cf9a1df-6d40-4cf2-adea-470afdae12ba",
   "metadata": {},
   "outputs": [
    {
     "name": "stdout",
     "output_type": "stream",
     "text": [
      "----------------------------------------------------------------------------------------------------\n",
      "   const   fold   cv_macro_auc     cv_logloss   cv_micro_auc   cv_accuracy\n",
      "0      0  fold1       0.936627       0.272516       0.936627      0.908467\n",
      "1      0  fold2        0.95157       0.259985        0.95157      0.902331\n",
      "2      0  fold3       0.944026       0.287015       0.944026      0.892252\n",
      "0      0   fold  0.9441+/-0.01  0.2732+/-0.01  0.9441+/-0.01  0.901+/-0.01\n",
      "----------------------------------------------------------------------------------------------------\n",
      "                                      ll_loss      micro_auc       accuracy  \\\n",
      "model_name                                                                    \n",
      "ad_imaging#LogisticRegression    0.329+/-0.02  0.9365+/-0.01  0.8882+/-0.01   \n",
      "ad_imaging#XGBClassifier         0.3931+/-0.0  0.9261+/-0.01  0.8659+/-0.01   \n",
      "ad_imaging#skorchMLPClassifier  0.2918+/-0.01  0.9371+/-0.01  0.8858+/-0.01   \n",
      "\n",
      "                                    macro_auc  \n",
      "model_name                                     \n",
      "ad_imaging#LogisticRegression   0.9365+/-0.01  \n",
      "ad_imaging#XGBClassifier        0.9261+/-0.01  \n",
      "ad_imaging#skorchMLPClassifier  0.9371+/-0.01  \n"
     ]
    },
    {
     "name": "stderr",
     "output_type": "stream",
     "text": [
      "/var/folders/y5/tr1yp82s2ns2_4g_6flxk45jrqb07t/T/ipykernel_77605/4155623755.py:29: FutureWarning: ['fold'] did not aggregate successfully. If any error is raised this will raise in a future version of pandas. Drop these columns/ops to avoid this warning.\n",
      "  avg = pd.DataFrame(cv_all_results).groupby('const').agg(f_mean).reset_index()\n",
      "/var/folders/y5/tr1yp82s2ns2_4g_6flxk45jrqb07t/T/ipykernel_77605/4155623755.py:39: FutureWarning: ['fold'] did not aggregate successfully. If any error is raised this will raise in a future version of pandas. Drop these columns/ops to avoid this warning.\n",
      "  print (pd.DataFrame(ll_loss_df).groupby('model_name').agg(f_mean))\n"
     ]
    }
   ],
   "source": [
    "d_ensemble = {}\n",
    "for col in full_dataframe.columns:\n",
    "    w = ensemble_weights[col.split('-')[0]]\n",
    "    pred_name = col.split('-')[1]\n",
    "    d_ensemble['ensemble-'+pred_name] = d_ensemble.get('ensemble-'+pred_name, 0) + w * full_dataframe[col].values\n",
    "    \n",
    "\n",
    "ensembled_prediction = pd.DataFrame(d_ensemble)\n",
    "ensembled_prediction.index = full_dataframe.index\n",
    "ensembled_prediction = ensembled_prediction.reset_index()\n",
    "from collections import defaultdict\n",
    "def f_mean(x):\n",
    "    return str(round(np.mean(list(x)), 4)) + '+/-' + str(np.std(list(x)).round(2))\n",
    "    \n",
    "g = list(ensembled_prediction.groupby('fold'))\n",
    "cv_all_results = defaultdict(list)\n",
    "\n",
    "for i in range(len(g)):  \n",
    "    temp = g[i][1]\n",
    "    cv_all_results['const'].append(0)\n",
    "    cv_all_results['fold'].append(g[i][0])\n",
    "    macro_auc = np.mean([metrics.roc_auc_score(temp['y_true'].values == i, temp.iloc[:, 2:].values[:,i]) for i in range(2)])\n",
    "    cv_all_results['cv_macro_auc'].append(macro_auc)\n",
    "    cv_all_results['cv_logloss'].append(  metrics.log_loss(temp['y_true'].values, temp.iloc[:, 2:])   )\n",
    "    cv_all_results['cv_micro_auc'].append(  metrics.roc_auc_score(temp['y_true'].values, temp.iloc[:, 3] , multi_class='ovo' ) )\n",
    "    cv_all_results['cv_accuracy'].append(  metrics.accuracy_score(temp['y_true'].values, np.argmax(temp.iloc[:, 2:].values, axis=1 ) )   )\n",
    "    \n",
    "\n",
    "avg = pd.DataFrame(cv_all_results).groupby('const').agg(f_mean).reset_index()\n",
    "avg['fold'] = 'fold'\n",
    "\n",
    "\n",
    "cv_all_results_df = pd.DataFrame(cv_all_results)\n",
    "print ('-'*100)\n",
    "print (pd.concat([cv_all_results_df, avg]))\n",
    "\n",
    "\n",
    "print ('-'*100)\n",
    "print (pd.DataFrame(ll_loss_df).groupby('model_name').agg(f_mean))\n"
   ]
  },
  {
   "cell_type": "code",
   "execution_count": 11,
   "id": "9d4a4514-ac2a-40ad-b16a-dc20bee0523c",
   "metadata": {},
   "outputs": [
    {
     "data": {
      "text/plain": [
       "6"
      ]
     },
     "execution_count": 11,
     "metadata": {},
     "output_type": "execute_result"
    }
   ],
   "source": [
    "len(cv_all_results)"
   ]
  },
  {
   "cell_type": "code",
   "execution_count": 12,
   "id": "7acadd8f-250e-4f09-806e-11889b104b34",
   "metadata": {},
   "outputs": [
    {
     "data": {
      "text/plain": [
       "defaultdict(list,\n",
       "            {'const': [0, 0, 0],\n",
       "             'fold': ['fold1', 'fold2', 'fold3'],\n",
       "             'cv_macro_auc': [0.9366271986941361,\n",
       "              0.9515699945606488,\n",
       "              0.944026472700028],\n",
       "             'cv_logloss': [0.2725164836547759,\n",
       "              0.25998528108327446,\n",
       "              0.2870153780439914],\n",
       "             'cv_micro_auc': [0.9366271986941361,\n",
       "              0.9515699945606488,\n",
       "              0.9440264727000279],\n",
       "             'cv_accuracy': [0.9084668192219679,\n",
       "              0.9023314429741651,\n",
       "              0.8922518159806295]})"
      ]
     },
     "execution_count": 12,
     "metadata": {},
     "output_type": "execute_result"
    }
   ],
   "source": [
    "cv_all_results"
   ]
  },
  {
   "cell_type": "code",
   "execution_count": 13,
   "id": "03965053-0b39-47ee-93fd-b80f3af20328",
   "metadata": {},
   "outputs": [
    {
     "data": {
      "text/html": [
       "<div>\n",
       "<style scoped>\n",
       "    .dataframe tbody tr th:only-of-type {\n",
       "        vertical-align: middle;\n",
       "    }\n",
       "\n",
       "    .dataframe tbody tr th {\n",
       "        vertical-align: top;\n",
       "    }\n",
       "\n",
       "    .dataframe thead th {\n",
       "        text-align: right;\n",
       "    }\n",
       "</style>\n",
       "<table border=\"1\" class=\"dataframe\">\n",
       "  <thead>\n",
       "    <tr style=\"text-align: right;\">\n",
       "      <th></th>\n",
       "      <th>fold</th>\n",
       "      <th>y_true</th>\n",
       "      <th>ensemble-y_pred0</th>\n",
       "      <th>ensemble-y_pred1</th>\n",
       "    </tr>\n",
       "  </thead>\n",
       "  <tbody>\n",
       "    <tr>\n",
       "      <th>0</th>\n",
       "      <td>fold1</td>\n",
       "      <td>1.0</td>\n",
       "      <td>0.484408</td>\n",
       "      <td>0.515592</td>\n",
       "    </tr>\n",
       "    <tr>\n",
       "      <th>1</th>\n",
       "      <td>fold1</td>\n",
       "      <td>0.0</td>\n",
       "      <td>0.904632</td>\n",
       "      <td>0.095368</td>\n",
       "    </tr>\n",
       "    <tr>\n",
       "      <th>2</th>\n",
       "      <td>fold1</td>\n",
       "      <td>0.0</td>\n",
       "      <td>0.926955</td>\n",
       "      <td>0.073045</td>\n",
       "    </tr>\n",
       "    <tr>\n",
       "      <th>3</th>\n",
       "      <td>fold1</td>\n",
       "      <td>0.0</td>\n",
       "      <td>0.974439</td>\n",
       "      <td>0.025561</td>\n",
       "    </tr>\n",
       "    <tr>\n",
       "      <th>4</th>\n",
       "      <td>fold1</td>\n",
       "      <td>0.0</td>\n",
       "      <td>0.828497</td>\n",
       "      <td>0.171503</td>\n",
       "    </tr>\n",
       "    <tr>\n",
       "      <th>...</th>\n",
       "      <td>...</td>\n",
       "      <td>...</td>\n",
       "      <td>...</td>\n",
       "      <td>...</td>\n",
       "    </tr>\n",
       "    <tr>\n",
       "      <th>4982</th>\n",
       "      <td>fold3</td>\n",
       "      <td>0.0</td>\n",
       "      <td>0.024210</td>\n",
       "      <td>0.975790</td>\n",
       "    </tr>\n",
       "    <tr>\n",
       "      <th>4983</th>\n",
       "      <td>fold3</td>\n",
       "      <td>0.0</td>\n",
       "      <td>0.894337</td>\n",
       "      <td>0.105663</td>\n",
       "    </tr>\n",
       "    <tr>\n",
       "      <th>4984</th>\n",
       "      <td>fold3</td>\n",
       "      <td>1.0</td>\n",
       "      <td>0.046581</td>\n",
       "      <td>0.953419</td>\n",
       "    </tr>\n",
       "    <tr>\n",
       "      <th>4985</th>\n",
       "      <td>fold3</td>\n",
       "      <td>0.0</td>\n",
       "      <td>0.941407</td>\n",
       "      <td>0.058593</td>\n",
       "    </tr>\n",
       "    <tr>\n",
       "      <th>4986</th>\n",
       "      <td>fold3</td>\n",
       "      <td>1.0</td>\n",
       "      <td>0.178231</td>\n",
       "      <td>0.821769</td>\n",
       "    </tr>\n",
       "  </tbody>\n",
       "</table>\n",
       "<p>4987 rows × 4 columns</p>\n",
       "</div>"
      ],
      "text/plain": [
       "       fold  y_true  ensemble-y_pred0  ensemble-y_pred1\n",
       "0     fold1     1.0          0.484408          0.515592\n",
       "1     fold1     0.0          0.904632          0.095368\n",
       "2     fold1     0.0          0.926955          0.073045\n",
       "3     fold1     0.0          0.974439          0.025561\n",
       "4     fold1     0.0          0.828497          0.171503\n",
       "...     ...     ...               ...               ...\n",
       "4982  fold3     0.0          0.024210          0.975790\n",
       "4983  fold3     0.0          0.894337          0.105663\n",
       "4984  fold3     1.0          0.046581          0.953419\n",
       "4985  fold3     0.0          0.941407          0.058593\n",
       "4986  fold3     1.0          0.178231          0.821769\n",
       "\n",
       "[4987 rows x 4 columns]"
      ]
     },
     "execution_count": 13,
     "metadata": {},
     "output_type": "execute_result"
    }
   ],
   "source": [
    "ensembled_prediction"
   ]
  },
  {
   "cell_type": "code",
   "execution_count": 14,
   "id": "18d87db3-7dfa-49df-bf9e-101097b9d570",
   "metadata": {},
   "outputs": [],
   "source": [
    "ensembled_prediction.to_csv(\"data/ad_ensembled_prediction.csv\", index=False)"
   ]
  },
  {
   "cell_type": "code",
   "execution_count": 15,
   "id": "02536d07-ae06-456c-9d00-aec1530a3f73",
   "metadata": {},
   "outputs": [
    {
     "name": "stdout",
     "output_type": "stream",
     "text": [
      "Number of subject Index(['ADNI-130_S_0969', 'ADNI-141_S_0726', 'ADNI-129_S_4369',\n",
      "       'ADNI-141_S_0767', 'ADNI-037_S_6187', 'ADNI-072_S_0315',\n",
      "       'ADNI-020_S_5203', 'ADNI-114_S_0166', 'ADNI-141_S_0767',\n",
      "       'ADNI-141_S_0767',\n",
      "       ...\n",
      "       'ADNI-057_S_0643', 'ADNI-033_S_0923', 'ADNI-126_S_0605',\n",
      "       'ADNI-006_S_0681', 'ADNI-033_S_0741', 'ADNI-098_S_0896',\n",
      "       'ADNI-098_S_0896', 'ADNI-098_S_0896', 'ADNI-127_S_0260',\n",
      "       'ADNI-126_S_0605'],\n",
      "      dtype='object', name='ID', length=3161)\n",
      "Number of unique subject Index(['ADNI-130_S_0969', 'ADNI-141_S_0726', 'ADNI-129_S_4369',\n",
      "       'ADNI-141_S_0767', 'ADNI-037_S_6187', 'ADNI-072_S_0315',\n",
      "       'ADNI-020_S_5203', 'ADNI-114_S_0166', 'ADNI-070_S_6966',\n",
      "       'ADNI-099_S_0533',\n",
      "       ...\n",
      "       'ADNI-057_S_0643', 'ADNI-128_S_0188', 'ADNI-019_S_4835',\n",
      "       'ADNI-133_S_0433', 'ADNI-131_S_0436', 'ADNI-128_S_0863',\n",
      "       'ADNI-131_S_0319', 'ADNI-098_S_0896', 'ADNI-052_S_1168',\n",
      "       'ADNI-006_S_0681'],\n",
      "      dtype='object', name='ID', length=925)\n"
     ]
    }
   ],
   "source": [
    "print (\"Number of subject\", obs[obs['PHENO']=='Control'].index.map(lambda x: '-'.join(x.split('-')[:2])))\n",
    "print (\"Number of unique subject\", obs[obs['PHENO']=='Control'].index.map(lambda x: '-'.join(x.split('-')[:2])).unique())"
   ]
  },
  {
   "cell_type": "code",
   "execution_count": 16,
   "id": "42b006d5-b8f8-4c69-93a6-fa19f610f9ca",
   "metadata": {},
   "outputs": [
    {
     "name": "stdout",
     "output_type": "stream",
     "text": [
      "Number of subject Index(['ADNI-126_S_4891', 'ADNI-018_S_0286', 'ADNI-018_S_0286',\n",
      "       'ADNI-018_S_0286', 'ADNI-036_S_1240', 'ADNI-126_S_4891',\n",
      "       'ADNI-067_S_0812', 'ADNI-126_S_4891', 'ADNI-018_S_0286',\n",
      "       'ADNI-135_S_4954',\n",
      "       ...\n",
      "       'ADNI-133_S_1055', 'ADNI-014_S_0563', 'ADNI-041_S_1010',\n",
      "       'ADNI-014_S_0328', 'ADNI-027_S_0179', 'ADNI-098_S_0269',\n",
      "       'ADNI-136_S_0695', 'ADNI-011_S_0241', 'ADNI-126_S_0891',\n",
      "       'ADNI-011_S_0241'],\n",
      "      dtype='object', name='ID', length=1826)\n",
      "Number of unique subject Index(['ADNI-126_S_4891', 'ADNI-018_S_0286', 'ADNI-036_S_1240',\n",
      "       'ADNI-067_S_0812', 'ADNI-135_S_4954', 'ADNI-137_S_0796',\n",
      "       'ADNI-099_S_0111', 'ADNI-036_S_0759', 'ADNI-137_S_0366',\n",
      "       'ADNI-023_S_0084',\n",
      "       ...\n",
      "       'ADNI-098_S_0269', 'ADNI-041_S_1425', 'ADNI-014_S_0356',\n",
      "       'ADNI-041_S_1010', 'ADNI-131_S_0497', 'ADNI-041_S_1412',\n",
      "       'ADNI-011_S_0241', 'ADNI-098_S_0667', 'ADNI-014_S_0328',\n",
      "       'ADNI-027_S_0179'],\n",
      "      dtype='object', name='ID', length=731)\n"
     ]
    }
   ],
   "source": [
    "print (\"Number of subject\", obs[obs['PHENO']=='Dementia'].index.map(lambda x: '-'.join(x.split('-')[:2])))\n",
    "print (\"Number of unique subject\", obs[obs['PHENO']=='Dementia'].index.map(lambda x: '-'.join(x.split('-')[:2])).unique())"
   ]
  },
  {
   "cell_type": "code",
   "execution_count": 17,
   "id": "89b89cbc-7f83-4925-a936-ed81a12bdabc",
   "metadata": {},
   "outputs": [
    {
     "data": {
      "text/plain": [
       "Index(['ADNI-130_S_0969', 'ADNI-141_S_0726', 'ADNI-129_S_4369',\n",
       "       'ADNI-141_S_0767', 'ADNI-037_S_6187', 'ADNI-072_S_0315',\n",
       "       'ADNI-020_S_5203', 'ADNI-114_S_0166', 'ADNI-141_S_0767',\n",
       "       'ADNI-141_S_0767',\n",
       "       ...\n",
       "       'ADNI-057_S_0643', 'ADNI-033_S_0923', 'ADNI-126_S_0605',\n",
       "       'ADNI-006_S_0681', 'ADNI-033_S_0741', 'ADNI-098_S_0896',\n",
       "       'ADNI-098_S_0896', 'ADNI-098_S_0896', 'ADNI-127_S_0260',\n",
       "       'ADNI-126_S_0605'],\n",
       "      dtype='object', name='ID', length=3161)"
      ]
     },
     "execution_count": 17,
     "metadata": {},
     "output_type": "execute_result"
    }
   ],
   "source": [
    "obs[obs['PHENO']=='Control'].index.map(lambda x: '-'.join(x.split('-')[:2]))"
   ]
  },
  {
   "cell_type": "code",
   "execution_count": 18,
   "id": "d277f1e5-590f-4091-ace2-1bf2d6850184",
   "metadata": {},
   "outputs": [],
   "source": [
    "obs = pd.concat([get_obs_data_anndata('fold1'), get_obs_data_anndata('fold2'), get_obs_data_anndata('fold3')])"
   ]
  },
  {
   "cell_type": "code",
   "execution_count": null,
   "id": "c275e7b7-40cc-4330-a205-a1df38f39a9b",
   "metadata": {},
   "outputs": [],
   "source": []
  }
 ],
 "metadata": {
  "kernelspec": {
   "display_name": "Python 3 (ipykernel)",
   "language": "python",
   "name": "python3"
  },
  "language_info": {
   "codemirror_mode": {
    "name": "ipython",
    "version": 3
   },
   "file_extension": ".py",
   "mimetype": "text/x-python",
   "name": "python",
   "nbconvert_exporter": "python",
   "pygments_lexer": "ipython3",
   "version": "3.8.16"
  }
 },
 "nbformat": 4,
 "nbformat_minor": 5
}
